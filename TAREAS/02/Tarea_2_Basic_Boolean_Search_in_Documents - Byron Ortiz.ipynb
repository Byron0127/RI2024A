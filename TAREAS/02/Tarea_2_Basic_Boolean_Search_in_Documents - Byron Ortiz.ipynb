{
 "cells": [
  {
   "cell_type": "markdown",
   "id": "83d5d752",
   "metadata": {},
   "source": [
    "# Basic Boolean Search in Documents - Byron Ortiz\n"
   ]
  },
  {
   "cell_type": "markdown",
   "id": "1c07baca",
   "metadata": {},
   "source": [
    "# Requirements\r\n",
    "\n",
    "En esta sección, importamos las librerías necesarias para manejar archivos, trabajar con expresiones regulares y crear colecciones de datos.\n"
   ]
  },
  {
   "cell_type": "markdown",
   "id": "d50e493b-6e6e-441c-82b0-bf6875d6eaf0",
   "metadata": {},
   "source": [
    "## Step 1: Update Data Preparation\r\n",
    "Ensure that the documents are still loaded and preprocessed from the previous task. The data should be clean and ready for advanced querying."
   ]
  },
  {
   "cell_type": "markdown",
   "id": "69a2046a-6866-40f0-a55e-e8fd9bec721f",
   "metadata": {},
   "source": [
    "En este paso, actualizamos la preparación de los datos cargando y preparando los documentos que serán utilizados en el procesamiento posterior. El código realiza las siguientes acciones:\n",
    "\n",
    "- Importa el módulo `os`, que proporciona funciones para interactuar con el sistema operativo.\n",
    "- Define la ruta al directorio que contiene los archivos de texto en Jupyter Notebook.\n",
    "- Crea un diccionario vacío llamado `documents` para almacenar los contenidos de los documentos.\n",
    "- Itera sobre cada archivo en el directorio especificado.\n",
    "  - Verifica si el archivo tiene la extensión \".txt\".\n",
    "  - Construye la ruta completa del archivo.\n",
    "  - Abre el archivo en modo lectura y lo asigna a la variable `file`.\n",
    "  - Lee el contenido del archivo, lo convierte a minúsculas y lo almacena en el diccionario `documents` con el nombre del archivo como clave.\n",
    "- Itera sobre los primeros seis elementos del diccionario `documents`.\n",
    "  - Imprime el nombre del documento y sus primeros 200 caracteres de contenido.\n",
    "\n",
    "Este código carga los documentos de la carpeta especificada, los convierte a minúsculas y los almacena en un diccionario para su posterior procesamiento. Luego, muestra el nombre y el contenido de los primeros seis documentos como una muestra."
   ]
  },
  {
   "cell_type": "code",
   "execution_count": 1,
   "id": "01a5cd40",
   "metadata": {},
   "outputs": [
    {
     "name": "stdout",
     "output_type": "stream",
     "text": [
      "Documento: pg100.txt\n",
      "Contenido: ﻿the project gutenberg ebook of the complete works of william shakespeare\n",
      "    \n",
      "this ebook is for the use of anyone anywhere in the united states and\n",
      "most other parts of the world at no cost and with a...\n",
      "Documento: pg10676.txt\n",
      "Contenido: ﻿the project gutenberg ebook of the reign of greed\n",
      "    \n",
      "this ebook is for the use of anyone anywhere in the united states and\n",
      "most other parts of the world at no cost and with almost no restrictions\n",
      "w...\n",
      "Documento: pg1080.txt\n",
      "Contenido: ﻿the project gutenberg ebook of a modest proposal\n",
      "    \n",
      "this ebook is for the use of anyone anywhere in the united states and\n",
      "most other parts of the world at no cost and with almost no restrictions\n",
      "wh...\n",
      "Documento: pg10907.txt\n",
      "Contenido: ﻿the project gutenberg ebook of the history of rome, books 09 to 26\n",
      "    \n",
      "this ebook is for the use of anyone anywhere in the united states and\n",
      "most other parts of the world at no cost and with almost ...\n",
      "Documento: pg11.txt\n",
      "Contenido: ﻿the project gutenberg ebook of alice's adventures in wonderland\n",
      "    \n",
      "this ebook is for the use of anyone anywhere in the united states and\n",
      "most other parts of the world at no cost and with almost no ...\n",
      "Documento: pg1184.txt\n",
      "Contenido: ﻿the project gutenberg ebook of the count of monte cristo\n",
      "    \n",
      "this ebook is for the use of anyone anywhere in the united states and\n",
      "most other parts of the world at no cost and with almost no restric...\n"
     ]
    }
   ],
   "source": [
    "import os\n",
    "\n",
    "# Define la ruta al directorio que contiene los archivos de texto en Jupyter Notebook\n",
    "CORPUS_DIR = 'data'\n",
    "\n",
    "# Crea un diccionario para almacenar los contenidos de los documentos\n",
    "documents = {}\n",
    "\n",
    "# Itera sobre cada archivo en el directorio\n",
    "for filename in os.listdir(CORPUS_DIR):\n",
    "    if filename.endswith('.txt'):\n",
    "        file_path = os.path.join(CORPUS_DIR, filename)\n",
    "        with open(file_path, 'r', encoding='utf-8') as file:\n",
    "            documents[filename] = file.read().lower()  # Lee y convierte a minúsculas\n",
    "\n",
    "# Muestra el contenido de los primeros documentos\n",
    "for doc, content in list(documents.items())[:6]:\n",
    "    print(f'Documento: {doc}\\nContenido: {content[:200]}...')\n"
   ]
  },
  {
   "cell_type": "markdown",
   "id": "fd16434a-0313-47c4-b115-5ba435114ed6",
   "metadata": {},
   "source": [
    "## Step 2: Create an Inverted Index\r\n",
    "Create an inverted index from the documents. This index maps each word to the set of document IDs in which that word appears. This facilitates word lookup in the search process."
   ]
  },
  {
   "cell_type": "markdown",
   "id": "28690631-7702-4ede-b52f-62d314ae584e",
   "metadata": {},
   "source": [
    "En este paso, creamos un índice invertido a partir de los documentos cargados en el paso anterior. El índice invertido mapea cada palabra a un conjunto de identificadores de documentos en los que aparece esa palabra.\r\n",
    "\r\n",
    "**Explicación:**\r\n",
    "\r\n",
    "- Importamos el módulo `re`, que proporciona operaciones de coincidencia de expresiones regulares.\r\n",
    "- Creamos un diccionario vacío llamado `inverted_index` para almacenar el índice invertido.\r\n",
    "- Iteramos sobre cada documento en el diccionario `documents`.\r\n",
    "  - Utilizamos expresiones regulares (`re.findall(r'\\w+', content)`) para encontrar todas las palabras en el contenido del documento.\r\n",
    "  - Agregamos las palabras al índice invertido. Si la palabra no está en el índice invertido, la inicializamos con un conjunto vacío. Luego, añadimos el identificador del documento a ese conjunto.\r\n",
    "- Al final del bucle, mostramos una muestra del índice invertido, mostrando las primeras 50 entradas que contienen la palabra y los documentos en los que aparece esa palabra.\r\n",
    "\r\n",
    "Este proceso construye el índice invertido necesario para facilitar la búsqueda de palabras en los documentos. Cada palabra se mapea a un conjunto de identificadores de documentos en los que aparece."
   ]
  },
  {
   "cell_type": "code",
   "execution_count": 2,
   "id": "a8fcfb4a-a4c7-426a-9b19-05bfc1d0ed31",
   "metadata": {},
   "outputs": [
    {
     "name": "stdout",
     "output_type": "stream",
     "text": [
      "Palabra: the\n",
      "Documentos: {'pg59468.txt', 'pg1952.txt', 'pg16.txt', 'pg2160.txt', 'pg3207.txt', 'pg768.txt', 'pg16389.txt', 'pg1998.txt', 'pg11.txt', 'pg1342.txt', 'pg174.txt', 'pg26073.txt', 'pg12582.txt', 'pg73444.txt', 'pg73448.txt', 'pg1232.txt', 'pg67979.txt', 'pg52281.txt', 'pg1184.txt', 'pg21012.txt', 'pg18893.txt', 'pg1727.txt', 'pg2814.txt', 'pg145.txt', 'pg1513.txt', 'pg6130.txt', 'pg28054.txt', 'pg84.txt', 'pg10907.txt', 'pg345.txt', 'pg21700.txt', 'pg98.txt', 'pg73447.txt', 'pg41445.txt', 'pg35899.txt', 'pg1400.txt', 'pg73442.txt', 'pg76.txt', 'pg2852.txt', 'pg48191.txt', 'pg43.txt', 'pg219.txt', 'pg27827.txt', 'pg47629.txt', 'pg20228.txt', 'pg46.txt', 'pg1080.txt', 'pg2000.txt', 'pg41070.txt', 'pg1259.txt', 'pg2542.txt', 'pg2591.txt', 'pg2641.txt', 'pg45.txt', 'pg120.txt', 'pg50038.txt', 'pg61419.txt', 'pg5200.txt', 'pg4085.txt', 'pg2701.txt', 'pg55.txt', 'pg2600.txt', 'pg30254.txt', 'pg6593.txt', 'pg100.txt', 'pg45848.txt', 'pg44388.txt', 'pg52882.txt', 'pg29728.txt', 'pg205.txt', 'pg37106.txt', 'pg8800.txt', 'pg6761.txt', 'pg600.txt', 'pg44837.txt', 'pg41287.txt', 'pg10676.txt', 'pg25344.txt', 'pg67098.txt', 'pg42933.txt', 'pg394.txt', 'pg408.txt', 'pg74.txt', 'pg1260.txt', 'pg47312.txt', 'pg2554.txt', 'pg996.txt', 'pg244.txt', 'pg64317.txt', 'pg844.txt', 'pg5197.txt', 'pg7370.txt', 'pg514.txt', 'pg62119.txt', 'pg45540.txt', 'pg4300.txt', 'pg1661.txt', 'pg59469.txt'}\n",
      "Palabra: project\n",
      "Documentos: {'pg59468.txt', 'pg1952.txt', 'pg16.txt', 'pg2160.txt', 'pg3207.txt', 'pg768.txt', 'pg16389.txt', 'pg1998.txt', 'pg11.txt', 'pg1342.txt', 'pg174.txt', 'pg26073.txt', 'pg12582.txt', 'pg73444.txt', 'pg73448.txt', 'pg1232.txt', 'pg67979.txt', 'pg52281.txt', 'pg1184.txt', 'pg21012.txt', 'pg18893.txt', 'pg1727.txt', 'pg2814.txt', 'pg145.txt', 'pg1513.txt', 'pg6130.txt', 'pg28054.txt', 'pg84.txt', 'pg10907.txt', 'pg345.txt', 'pg21700.txt', 'pg98.txt', 'pg73447.txt', 'pg41445.txt', 'pg35899.txt', 'pg1400.txt', 'pg73442.txt', 'pg76.txt', 'pg2852.txt', 'pg48191.txt', 'pg43.txt', 'pg219.txt', 'pg27827.txt', 'pg47629.txt', 'pg20228.txt', 'pg46.txt', 'pg1080.txt', 'pg2000.txt', 'pg41070.txt', 'pg1259.txt', 'pg2542.txt', 'pg2591.txt', 'pg2641.txt', 'pg45.txt', 'pg120.txt', 'pg50038.txt', 'pg61419.txt', 'pg5200.txt', 'pg4085.txt', 'pg2701.txt', 'pg55.txt', 'pg2600.txt', 'pg30254.txt', 'pg6593.txt', 'pg100.txt', 'pg45848.txt', 'pg44388.txt', 'pg52882.txt', 'pg29728.txt', 'pg205.txt', 'pg37106.txt', 'pg8800.txt', 'pg6761.txt', 'pg600.txt', 'pg44837.txt', 'pg41287.txt', 'pg10676.txt', 'pg25344.txt', 'pg67098.txt', 'pg42933.txt', 'pg394.txt', 'pg408.txt', 'pg74.txt', 'pg1260.txt', 'pg47312.txt', 'pg2554.txt', 'pg996.txt', 'pg244.txt', 'pg64317.txt', 'pg844.txt', 'pg5197.txt', 'pg7370.txt', 'pg514.txt', 'pg62119.txt', 'pg45540.txt', 'pg4300.txt', 'pg1661.txt', 'pg59469.txt'}\n",
      "Palabra: gutenberg\n",
      "Documentos: {'pg59468.txt', 'pg1952.txt', 'pg16.txt', 'pg2160.txt', 'pg3207.txt', 'pg768.txt', 'pg16389.txt', 'pg1998.txt', 'pg11.txt', 'pg1342.txt', 'pg174.txt', 'pg26073.txt', 'pg12582.txt', 'pg73444.txt', 'pg73448.txt', 'pg1232.txt', 'pg67979.txt', 'pg52281.txt', 'pg1184.txt', 'pg21012.txt', 'pg18893.txt', 'pg1727.txt', 'pg2814.txt', 'pg145.txt', 'pg1513.txt', 'pg6130.txt', 'pg28054.txt', 'pg84.txt', 'pg10907.txt', 'pg345.txt', 'pg21700.txt', 'pg98.txt', 'pg73447.txt', 'pg41445.txt', 'pg35899.txt', 'pg1400.txt', 'pg73442.txt', 'pg76.txt', 'pg2852.txt', 'pg48191.txt', 'pg43.txt', 'pg219.txt', 'pg27827.txt', 'pg47629.txt', 'pg20228.txt', 'pg46.txt', 'pg1080.txt', 'pg2000.txt', 'pg41070.txt', 'pg1259.txt', 'pg2542.txt', 'pg2591.txt', 'pg2641.txt', 'pg45.txt', 'pg120.txt', 'pg50038.txt', 'pg61419.txt', 'pg5200.txt', 'pg4085.txt', 'pg2701.txt', 'pg55.txt', 'pg2600.txt', 'pg30254.txt', 'pg6593.txt', 'pg100.txt', 'pg45848.txt', 'pg44388.txt', 'pg52882.txt', 'pg29728.txt', 'pg205.txt', 'pg37106.txt', 'pg8800.txt', 'pg6761.txt', 'pg600.txt', 'pg44837.txt', 'pg41287.txt', 'pg10676.txt', 'pg25344.txt', 'pg67098.txt', 'pg42933.txt', 'pg394.txt', 'pg408.txt', 'pg74.txt', 'pg1260.txt', 'pg47312.txt', 'pg2554.txt', 'pg996.txt', 'pg244.txt', 'pg64317.txt', 'pg844.txt', 'pg5197.txt', 'pg7370.txt', 'pg514.txt', 'pg62119.txt', 'pg45540.txt', 'pg4300.txt', 'pg1661.txt', 'pg59469.txt'}\n",
      "Palabra: ebook\n",
      "Documentos: {'pg59468.txt', 'pg1952.txt', 'pg16.txt', 'pg2160.txt', 'pg3207.txt', 'pg768.txt', 'pg16389.txt', 'pg1998.txt', 'pg11.txt', 'pg1342.txt', 'pg174.txt', 'pg26073.txt', 'pg12582.txt', 'pg73444.txt', 'pg73448.txt', 'pg1232.txt', 'pg67979.txt', 'pg52281.txt', 'pg1184.txt', 'pg21012.txt', 'pg18893.txt', 'pg1727.txt', 'pg2814.txt', 'pg145.txt', 'pg1513.txt', 'pg6130.txt', 'pg28054.txt', 'pg84.txt', 'pg10907.txt', 'pg345.txt', 'pg21700.txt', 'pg98.txt', 'pg73447.txt', 'pg41445.txt', 'pg35899.txt', 'pg1400.txt', 'pg73442.txt', 'pg76.txt', 'pg2852.txt', 'pg48191.txt', 'pg43.txt', 'pg219.txt', 'pg27827.txt', 'pg47629.txt', 'pg20228.txt', 'pg46.txt', 'pg1080.txt', 'pg2000.txt', 'pg41070.txt', 'pg1259.txt', 'pg2542.txt', 'pg2591.txt', 'pg2641.txt', 'pg45.txt', 'pg120.txt', 'pg50038.txt', 'pg61419.txt', 'pg5200.txt', 'pg4085.txt', 'pg2701.txt', 'pg55.txt', 'pg2600.txt', 'pg30254.txt', 'pg6593.txt', 'pg100.txt', 'pg45848.txt', 'pg44388.txt', 'pg52882.txt', 'pg29728.txt', 'pg205.txt', 'pg37106.txt', 'pg8800.txt', 'pg6761.txt', 'pg600.txt', 'pg44837.txt', 'pg41287.txt', 'pg10676.txt', 'pg25344.txt', 'pg67098.txt', 'pg42933.txt', 'pg394.txt', 'pg408.txt', 'pg74.txt', 'pg1260.txt', 'pg47312.txt', 'pg2554.txt', 'pg996.txt', 'pg244.txt', 'pg64317.txt', 'pg844.txt', 'pg5197.txt', 'pg7370.txt', 'pg514.txt', 'pg62119.txt', 'pg45540.txt', 'pg4300.txt', 'pg1661.txt', 'pg59469.txt'}\n",
      "Palabra: of\n",
      "Documentos: {'pg59468.txt', 'pg1952.txt', 'pg16.txt', 'pg2160.txt', 'pg3207.txt', 'pg768.txt', 'pg16389.txt', 'pg1998.txt', 'pg11.txt', 'pg1342.txt', 'pg174.txt', 'pg26073.txt', 'pg12582.txt', 'pg73444.txt', 'pg73448.txt', 'pg1232.txt', 'pg67979.txt', 'pg52281.txt', 'pg1184.txt', 'pg21012.txt', 'pg18893.txt', 'pg1727.txt', 'pg2814.txt', 'pg145.txt', 'pg1513.txt', 'pg6130.txt', 'pg28054.txt', 'pg84.txt', 'pg10907.txt', 'pg345.txt', 'pg21700.txt', 'pg98.txt', 'pg73447.txt', 'pg41445.txt', 'pg35899.txt', 'pg1400.txt', 'pg73442.txt', 'pg76.txt', 'pg2852.txt', 'pg48191.txt', 'pg43.txt', 'pg219.txt', 'pg27827.txt', 'pg47629.txt', 'pg20228.txt', 'pg46.txt', 'pg1080.txt', 'pg2000.txt', 'pg41070.txt', 'pg1259.txt', 'pg2542.txt', 'pg2591.txt', 'pg2641.txt', 'pg45.txt', 'pg120.txt', 'pg50038.txt', 'pg61419.txt', 'pg5200.txt', 'pg4085.txt', 'pg2701.txt', 'pg55.txt', 'pg2600.txt', 'pg30254.txt', 'pg6593.txt', 'pg100.txt', 'pg45848.txt', 'pg44388.txt', 'pg52882.txt', 'pg29728.txt', 'pg205.txt', 'pg37106.txt', 'pg8800.txt', 'pg6761.txt', 'pg600.txt', 'pg44837.txt', 'pg41287.txt', 'pg10676.txt', 'pg25344.txt', 'pg67098.txt', 'pg42933.txt', 'pg394.txt', 'pg408.txt', 'pg74.txt', 'pg1260.txt', 'pg47312.txt', 'pg2554.txt', 'pg996.txt', 'pg244.txt', 'pg64317.txt', 'pg844.txt', 'pg5197.txt', 'pg7370.txt', 'pg514.txt', 'pg62119.txt', 'pg45540.txt', 'pg4300.txt', 'pg1661.txt', 'pg59469.txt'}\n",
      "Palabra: complete\n",
      "Documentos: {'pg59468.txt', 'pg16.txt', 'pg2160.txt', 'pg768.txt', 'pg16389.txt', 'pg1998.txt', 'pg1342.txt', 'pg174.txt', 'pg26073.txt', 'pg12582.txt', 'pg73444.txt', 'pg73448.txt', 'pg1232.txt', 'pg67979.txt', 'pg52281.txt', 'pg1184.txt', 'pg21012.txt', 'pg18893.txt', 'pg2814.txt', 'pg145.txt', 'pg6130.txt', 'pg28054.txt', 'pg84.txt', 'pg10907.txt', 'pg345.txt', 'pg21700.txt', 'pg98.txt', 'pg73447.txt', 'pg41445.txt', 'pg35899.txt', 'pg1400.txt', 'pg2852.txt', 'pg48191.txt', 'pg43.txt', 'pg219.txt', 'pg27827.txt', 'pg47629.txt', 'pg41070.txt', 'pg1259.txt', 'pg2542.txt', 'pg2641.txt', 'pg45.txt', 'pg120.txt', 'pg50038.txt', 'pg61419.txt', 'pg5200.txt', 'pg4085.txt', 'pg2701.txt', 'pg2600.txt', 'pg30254.txt', 'pg6593.txt', 'pg100.txt', 'pg45848.txt', 'pg44388.txt', 'pg52882.txt', 'pg29728.txt', 'pg205.txt', 'pg37106.txt', 'pg8800.txt', 'pg6761.txt', 'pg600.txt', 'pg44837.txt', 'pg10676.txt', 'pg25344.txt', 'pg42933.txt', 'pg394.txt', 'pg408.txt', 'pg74.txt', 'pg1260.txt', 'pg47312.txt', 'pg2554.txt', 'pg996.txt', 'pg244.txt', 'pg64317.txt', 'pg844.txt', 'pg5197.txt', 'pg7370.txt', 'pg514.txt', 'pg62119.txt', 'pg45540.txt', 'pg4300.txt', 'pg1661.txt', 'pg59469.txt'}\n",
      "Palabra: works\n",
      "Documentos: {'pg59468.txt', 'pg1952.txt', 'pg16.txt', 'pg2160.txt', 'pg3207.txt', 'pg768.txt', 'pg16389.txt', 'pg1998.txt', 'pg11.txt', 'pg1342.txt', 'pg174.txt', 'pg26073.txt', 'pg12582.txt', 'pg73444.txt', 'pg73448.txt', 'pg1232.txt', 'pg67979.txt', 'pg52281.txt', 'pg1184.txt', 'pg21012.txt', 'pg18893.txt', 'pg1727.txt', 'pg2814.txt', 'pg145.txt', 'pg1513.txt', 'pg6130.txt', 'pg28054.txt', 'pg84.txt', 'pg10907.txt', 'pg345.txt', 'pg21700.txt', 'pg98.txt', 'pg73447.txt', 'pg41445.txt', 'pg35899.txt', 'pg1400.txt', 'pg73442.txt', 'pg76.txt', 'pg2852.txt', 'pg48191.txt', 'pg43.txt', 'pg219.txt', 'pg27827.txt', 'pg47629.txt', 'pg20228.txt', 'pg46.txt', 'pg1080.txt', 'pg2000.txt', 'pg41070.txt', 'pg1259.txt', 'pg2542.txt', 'pg2591.txt', 'pg2641.txt', 'pg45.txt', 'pg120.txt', 'pg50038.txt', 'pg61419.txt', 'pg5200.txt', 'pg4085.txt', 'pg2701.txt', 'pg55.txt', 'pg2600.txt', 'pg30254.txt', 'pg6593.txt', 'pg100.txt', 'pg45848.txt', 'pg44388.txt', 'pg52882.txt', 'pg29728.txt', 'pg205.txt', 'pg37106.txt', 'pg8800.txt', 'pg6761.txt', 'pg600.txt', 'pg44837.txt', 'pg41287.txt', 'pg10676.txt', 'pg25344.txt', 'pg67098.txt', 'pg42933.txt', 'pg394.txt', 'pg408.txt', 'pg74.txt', 'pg1260.txt', 'pg47312.txt', 'pg2554.txt', 'pg996.txt', 'pg244.txt', 'pg64317.txt', 'pg844.txt', 'pg5197.txt', 'pg7370.txt', 'pg514.txt', 'pg62119.txt', 'pg45540.txt', 'pg4300.txt', 'pg1661.txt', 'pg59469.txt'}\n",
      "Palabra: william\n",
      "Documentos: {'pg44837.txt', 'pg41287.txt', 'pg29728.txt', 'pg41070.txt', 'pg59468.txt', 'pg18893.txt', 'pg67098.txt', 'pg1259.txt', 'pg2160.txt', 'pg394.txt', 'pg408.txt', 'pg3207.txt', 'pg145.txt', 'pg1513.txt', 'pg47312.txt', 'pg45.txt', 'pg11.txt', 'pg1342.txt', 'pg84.txt', 'pg50038.txt', 'pg61419.txt', 'pg21700.txt', 'pg8800.txt', 'pg4085.txt', 'pg244.txt', 'pg26073.txt', 'pg2701.txt', 'pg73447.txt', 'pg41445.txt', 'pg1400.txt', 'pg5197.txt', 'pg7370.txt', 'pg76.txt', 'pg73448.txt', 'pg6593.txt', 'pg2852.txt', 'pg48191.txt', 'pg100.txt', 'pg45848.txt', 'pg62119.txt', 'pg45540.txt', 'pg27827.txt', 'pg4300.txt', 'pg1661.txt', 'pg52882.txt', 'pg205.txt', 'pg21012.txt', 'pg59469.txt', 'pg20228.txt'}\n",
      "Palabra: shakespeare\n",
      "Documentos: {'pg600.txt', 'pg44837.txt', 'pg25344.txt', 'pg42933.txt', 'pg1259.txt', 'pg2160.txt', 'pg394.txt', 'pg2814.txt', 'pg408.txt', 'pg145.txt', 'pg1513.txt', 'pg28054.txt', 'pg16389.txt', 'pg11.txt', 'pg84.txt', 'pg345.txt', 'pg174.txt', 'pg996.txt', 'pg2701.txt', 'pg205.txt', 'pg41445.txt', 'pg5197.txt', 'pg76.txt', 'pg100.txt', 'pg514.txt', 'pg45848.txt', 'pg62119.txt', 'pg4300.txt', 'pg1232.txt', 'pg67979.txt', 'pg52882.txt', 'pg29728.txt', 'pg37106.txt', 'pg1184.txt', 'pg6761.txt', 'pg20228.txt'}\n",
      "Palabra: this\n",
      "Documentos: {'pg59468.txt', 'pg1952.txt', 'pg16.txt', 'pg2160.txt', 'pg3207.txt', 'pg768.txt', 'pg16389.txt', 'pg1998.txt', 'pg11.txt', 'pg1342.txt', 'pg174.txt', 'pg26073.txt', 'pg12582.txt', 'pg73444.txt', 'pg73448.txt', 'pg1232.txt', 'pg67979.txt', 'pg52281.txt', 'pg1184.txt', 'pg21012.txt', 'pg18893.txt', 'pg1727.txt', 'pg2814.txt', 'pg145.txt', 'pg1513.txt', 'pg6130.txt', 'pg28054.txt', 'pg84.txt', 'pg10907.txt', 'pg345.txt', 'pg21700.txt', 'pg98.txt', 'pg73447.txt', 'pg41445.txt', 'pg35899.txt', 'pg1400.txt', 'pg73442.txt', 'pg76.txt', 'pg2852.txt', 'pg48191.txt', 'pg43.txt', 'pg219.txt', 'pg27827.txt', 'pg47629.txt', 'pg20228.txt', 'pg46.txt', 'pg1080.txt', 'pg2000.txt', 'pg41070.txt', 'pg1259.txt', 'pg2542.txt', 'pg2591.txt', 'pg2641.txt', 'pg45.txt', 'pg120.txt', 'pg50038.txt', 'pg61419.txt', 'pg5200.txt', 'pg4085.txt', 'pg2701.txt', 'pg55.txt', 'pg2600.txt', 'pg30254.txt', 'pg6593.txt', 'pg100.txt', 'pg45848.txt', 'pg44388.txt', 'pg52882.txt', 'pg29728.txt', 'pg205.txt', 'pg37106.txt', 'pg8800.txt', 'pg6761.txt', 'pg600.txt', 'pg44837.txt', 'pg41287.txt', 'pg10676.txt', 'pg25344.txt', 'pg67098.txt', 'pg42933.txt', 'pg394.txt', 'pg408.txt', 'pg74.txt', 'pg1260.txt', 'pg47312.txt', 'pg2554.txt', 'pg996.txt', 'pg244.txt', 'pg64317.txt', 'pg844.txt', 'pg5197.txt', 'pg7370.txt', 'pg514.txt', 'pg62119.txt', 'pg45540.txt', 'pg4300.txt', 'pg1661.txt', 'pg59469.txt'}\n",
      "Palabra: is\n",
      "Documentos: {'pg59468.txt', 'pg1952.txt', 'pg16.txt', 'pg2160.txt', 'pg3207.txt', 'pg768.txt', 'pg16389.txt', 'pg1998.txt', 'pg11.txt', 'pg1342.txt', 'pg174.txt', 'pg26073.txt', 'pg12582.txt', 'pg73444.txt', 'pg73448.txt', 'pg1232.txt', 'pg67979.txt', 'pg52281.txt', 'pg1184.txt', 'pg21012.txt', 'pg18893.txt', 'pg1727.txt', 'pg2814.txt', 'pg145.txt', 'pg1513.txt', 'pg6130.txt', 'pg28054.txt', 'pg84.txt', 'pg10907.txt', 'pg345.txt', 'pg21700.txt', 'pg98.txt', 'pg73447.txt', 'pg41445.txt', 'pg35899.txt', 'pg1400.txt', 'pg73442.txt', 'pg76.txt', 'pg2852.txt', 'pg48191.txt', 'pg43.txt', 'pg219.txt', 'pg27827.txt', 'pg47629.txt', 'pg20228.txt', 'pg46.txt', 'pg1080.txt', 'pg2000.txt', 'pg41070.txt', 'pg1259.txt', 'pg2542.txt', 'pg2591.txt', 'pg2641.txt', 'pg45.txt', 'pg120.txt', 'pg50038.txt', 'pg61419.txt', 'pg5200.txt', 'pg4085.txt', 'pg2701.txt', 'pg55.txt', 'pg2600.txt', 'pg30254.txt', 'pg6593.txt', 'pg100.txt', 'pg45848.txt', 'pg44388.txt', 'pg52882.txt', 'pg29728.txt', 'pg205.txt', 'pg37106.txt', 'pg8800.txt', 'pg6761.txt', 'pg600.txt', 'pg44837.txt', 'pg41287.txt', 'pg10676.txt', 'pg25344.txt', 'pg67098.txt', 'pg42933.txt', 'pg394.txt', 'pg408.txt', 'pg74.txt', 'pg1260.txt', 'pg47312.txt', 'pg2554.txt', 'pg996.txt', 'pg244.txt', 'pg64317.txt', 'pg844.txt', 'pg5197.txt', 'pg7370.txt', 'pg514.txt', 'pg62119.txt', 'pg45540.txt', 'pg4300.txt', 'pg1661.txt', 'pg59469.txt'}\n",
      "Palabra: for\n",
      "Documentos: {'pg59468.txt', 'pg1952.txt', 'pg16.txt', 'pg2160.txt', 'pg3207.txt', 'pg768.txt', 'pg16389.txt', 'pg1998.txt', 'pg11.txt', 'pg1342.txt', 'pg174.txt', 'pg26073.txt', 'pg12582.txt', 'pg73444.txt', 'pg73448.txt', 'pg1232.txt', 'pg67979.txt', 'pg52281.txt', 'pg1184.txt', 'pg21012.txt', 'pg18893.txt', 'pg1727.txt', 'pg2814.txt', 'pg145.txt', 'pg1513.txt', 'pg6130.txt', 'pg28054.txt', 'pg84.txt', 'pg10907.txt', 'pg345.txt', 'pg21700.txt', 'pg98.txt', 'pg73447.txt', 'pg41445.txt', 'pg35899.txt', 'pg1400.txt', 'pg73442.txt', 'pg76.txt', 'pg2852.txt', 'pg48191.txt', 'pg43.txt', 'pg219.txt', 'pg27827.txt', 'pg47629.txt', 'pg20228.txt', 'pg46.txt', 'pg1080.txt', 'pg2000.txt', 'pg41070.txt', 'pg1259.txt', 'pg2542.txt', 'pg2591.txt', 'pg2641.txt', 'pg45.txt', 'pg120.txt', 'pg50038.txt', 'pg61419.txt', 'pg5200.txt', 'pg4085.txt', 'pg2701.txt', 'pg55.txt', 'pg2600.txt', 'pg30254.txt', 'pg6593.txt', 'pg100.txt', 'pg45848.txt', 'pg44388.txt', 'pg52882.txt', 'pg29728.txt', 'pg205.txt', 'pg37106.txt', 'pg8800.txt', 'pg6761.txt', 'pg600.txt', 'pg44837.txt', 'pg41287.txt', 'pg10676.txt', 'pg25344.txt', 'pg67098.txt', 'pg42933.txt', 'pg394.txt', 'pg408.txt', 'pg74.txt', 'pg1260.txt', 'pg47312.txt', 'pg2554.txt', 'pg996.txt', 'pg244.txt', 'pg64317.txt', 'pg844.txt', 'pg5197.txt', 'pg7370.txt', 'pg514.txt', 'pg62119.txt', 'pg45540.txt', 'pg4300.txt', 'pg1661.txt', 'pg59469.txt'}\n",
      "Palabra: use\n",
      "Documentos: {'pg59468.txt', 'pg1952.txt', 'pg16.txt', 'pg2160.txt', 'pg3207.txt', 'pg768.txt', 'pg16389.txt', 'pg1998.txt', 'pg11.txt', 'pg1342.txt', 'pg174.txt', 'pg26073.txt', 'pg12582.txt', 'pg73444.txt', 'pg73448.txt', 'pg1232.txt', 'pg67979.txt', 'pg52281.txt', 'pg1184.txt', 'pg21012.txt', 'pg18893.txt', 'pg1727.txt', 'pg2814.txt', 'pg145.txt', 'pg1513.txt', 'pg6130.txt', 'pg28054.txt', 'pg84.txt', 'pg10907.txt', 'pg345.txt', 'pg21700.txt', 'pg98.txt', 'pg73447.txt', 'pg41445.txt', 'pg35899.txt', 'pg1400.txt', 'pg73442.txt', 'pg76.txt', 'pg2852.txt', 'pg48191.txt', 'pg43.txt', 'pg219.txt', 'pg27827.txt', 'pg47629.txt', 'pg20228.txt', 'pg46.txt', 'pg1080.txt', 'pg2000.txt', 'pg41070.txt', 'pg1259.txt', 'pg2542.txt', 'pg2591.txt', 'pg2641.txt', 'pg45.txt', 'pg120.txt', 'pg50038.txt', 'pg61419.txt', 'pg5200.txt', 'pg4085.txt', 'pg2701.txt', 'pg55.txt', 'pg2600.txt', 'pg30254.txt', 'pg6593.txt', 'pg100.txt', 'pg45848.txt', 'pg44388.txt', 'pg52882.txt', 'pg29728.txt', 'pg205.txt', 'pg37106.txt', 'pg8800.txt', 'pg6761.txt', 'pg600.txt', 'pg44837.txt', 'pg41287.txt', 'pg10676.txt', 'pg25344.txt', 'pg67098.txt', 'pg42933.txt', 'pg394.txt', 'pg408.txt', 'pg74.txt', 'pg1260.txt', 'pg47312.txt', 'pg2554.txt', 'pg996.txt', 'pg244.txt', 'pg64317.txt', 'pg844.txt', 'pg5197.txt', 'pg7370.txt', 'pg514.txt', 'pg62119.txt', 'pg45540.txt', 'pg4300.txt', 'pg1661.txt', 'pg59469.txt'}\n",
      "Palabra: anyone\n",
      "Documentos: {'pg59468.txt', 'pg1952.txt', 'pg16.txt', 'pg2160.txt', 'pg3207.txt', 'pg768.txt', 'pg16389.txt', 'pg1998.txt', 'pg11.txt', 'pg1342.txt', 'pg174.txt', 'pg26073.txt', 'pg12582.txt', 'pg73444.txt', 'pg73448.txt', 'pg1232.txt', 'pg67979.txt', 'pg52281.txt', 'pg1184.txt', 'pg21012.txt', 'pg18893.txt', 'pg1727.txt', 'pg2814.txt', 'pg145.txt', 'pg1513.txt', 'pg6130.txt', 'pg28054.txt', 'pg84.txt', 'pg10907.txt', 'pg345.txt', 'pg21700.txt', 'pg98.txt', 'pg73447.txt', 'pg41445.txt', 'pg35899.txt', 'pg1400.txt', 'pg73442.txt', 'pg76.txt', 'pg2852.txt', 'pg48191.txt', 'pg43.txt', 'pg219.txt', 'pg27827.txt', 'pg47629.txt', 'pg20228.txt', 'pg46.txt', 'pg1080.txt', 'pg2000.txt', 'pg41070.txt', 'pg1259.txt', 'pg2542.txt', 'pg2591.txt', 'pg2641.txt', 'pg45.txt', 'pg120.txt', 'pg50038.txt', 'pg61419.txt', 'pg5200.txt', 'pg4085.txt', 'pg2701.txt', 'pg55.txt', 'pg2600.txt', 'pg30254.txt', 'pg6593.txt', 'pg100.txt', 'pg45848.txt', 'pg44388.txt', 'pg52882.txt', 'pg29728.txt', 'pg205.txt', 'pg37106.txt', 'pg8800.txt', 'pg6761.txt', 'pg600.txt', 'pg44837.txt', 'pg41287.txt', 'pg10676.txt', 'pg25344.txt', 'pg67098.txt', 'pg42933.txt', 'pg394.txt', 'pg408.txt', 'pg74.txt', 'pg1260.txt', 'pg47312.txt', 'pg2554.txt', 'pg996.txt', 'pg244.txt', 'pg64317.txt', 'pg844.txt', 'pg5197.txt', 'pg7370.txt', 'pg514.txt', 'pg62119.txt', 'pg45540.txt', 'pg4300.txt', 'pg1661.txt', 'pg59469.txt'}\n",
      "Palabra: anywhere\n",
      "Documentos: {'pg59468.txt', 'pg1952.txt', 'pg16.txt', 'pg2160.txt', 'pg3207.txt', 'pg768.txt', 'pg16389.txt', 'pg1998.txt', 'pg11.txt', 'pg1342.txt', 'pg174.txt', 'pg26073.txt', 'pg12582.txt', 'pg73444.txt', 'pg73448.txt', 'pg1232.txt', 'pg67979.txt', 'pg52281.txt', 'pg1184.txt', 'pg21012.txt', 'pg18893.txt', 'pg1727.txt', 'pg2814.txt', 'pg145.txt', 'pg1513.txt', 'pg6130.txt', 'pg28054.txt', 'pg84.txt', 'pg10907.txt', 'pg345.txt', 'pg21700.txt', 'pg98.txt', 'pg73447.txt', 'pg41445.txt', 'pg35899.txt', 'pg1400.txt', 'pg73442.txt', 'pg76.txt', 'pg2852.txt', 'pg48191.txt', 'pg43.txt', 'pg219.txt', 'pg27827.txt', 'pg47629.txt', 'pg20228.txt', 'pg46.txt', 'pg1080.txt', 'pg2000.txt', 'pg41070.txt', 'pg1259.txt', 'pg2542.txt', 'pg2591.txt', 'pg2641.txt', 'pg45.txt', 'pg120.txt', 'pg50038.txt', 'pg61419.txt', 'pg5200.txt', 'pg4085.txt', 'pg2701.txt', 'pg55.txt', 'pg2600.txt', 'pg30254.txt', 'pg6593.txt', 'pg100.txt', 'pg45848.txt', 'pg44388.txt', 'pg52882.txt', 'pg29728.txt', 'pg205.txt', 'pg37106.txt', 'pg8800.txt', 'pg6761.txt', 'pg600.txt', 'pg44837.txt', 'pg41287.txt', 'pg10676.txt', 'pg25344.txt', 'pg67098.txt', 'pg42933.txt', 'pg394.txt', 'pg408.txt', 'pg74.txt', 'pg1260.txt', 'pg47312.txt', 'pg2554.txt', 'pg996.txt', 'pg244.txt', 'pg64317.txt', 'pg844.txt', 'pg5197.txt', 'pg7370.txt', 'pg514.txt', 'pg62119.txt', 'pg45540.txt', 'pg4300.txt', 'pg1661.txt', 'pg59469.txt'}\n",
      "Palabra: in\n",
      "Documentos: {'pg59468.txt', 'pg1952.txt', 'pg16.txt', 'pg2160.txt', 'pg3207.txt', 'pg768.txt', 'pg16389.txt', 'pg1998.txt', 'pg11.txt', 'pg1342.txt', 'pg174.txt', 'pg26073.txt', 'pg12582.txt', 'pg73444.txt', 'pg73448.txt', 'pg1232.txt', 'pg67979.txt', 'pg52281.txt', 'pg1184.txt', 'pg21012.txt', 'pg18893.txt', 'pg1727.txt', 'pg2814.txt', 'pg145.txt', 'pg1513.txt', 'pg6130.txt', 'pg28054.txt', 'pg84.txt', 'pg10907.txt', 'pg345.txt', 'pg21700.txt', 'pg98.txt', 'pg73447.txt', 'pg41445.txt', 'pg35899.txt', 'pg1400.txt', 'pg73442.txt', 'pg76.txt', 'pg2852.txt', 'pg48191.txt', 'pg43.txt', 'pg219.txt', 'pg27827.txt', 'pg47629.txt', 'pg20228.txt', 'pg46.txt', 'pg1080.txt', 'pg2000.txt', 'pg41070.txt', 'pg1259.txt', 'pg2542.txt', 'pg2591.txt', 'pg2641.txt', 'pg45.txt', 'pg120.txt', 'pg50038.txt', 'pg61419.txt', 'pg5200.txt', 'pg4085.txt', 'pg2701.txt', 'pg55.txt', 'pg2600.txt', 'pg30254.txt', 'pg6593.txt', 'pg100.txt', 'pg45848.txt', 'pg44388.txt', 'pg52882.txt', 'pg29728.txt', 'pg205.txt', 'pg37106.txt', 'pg8800.txt', 'pg6761.txt', 'pg600.txt', 'pg44837.txt', 'pg41287.txt', 'pg10676.txt', 'pg25344.txt', 'pg67098.txt', 'pg42933.txt', 'pg394.txt', 'pg408.txt', 'pg74.txt', 'pg1260.txt', 'pg47312.txt', 'pg2554.txt', 'pg996.txt', 'pg244.txt', 'pg64317.txt', 'pg844.txt', 'pg5197.txt', 'pg7370.txt', 'pg514.txt', 'pg62119.txt', 'pg45540.txt', 'pg4300.txt', 'pg1661.txt', 'pg59469.txt'}\n",
      "Palabra: united\n",
      "Documentos: {'pg59468.txt', 'pg1952.txt', 'pg16.txt', 'pg2160.txt', 'pg3207.txt', 'pg768.txt', 'pg16389.txt', 'pg1998.txt', 'pg11.txt', 'pg1342.txt', 'pg174.txt', 'pg26073.txt', 'pg12582.txt', 'pg73444.txt', 'pg73448.txt', 'pg1232.txt', 'pg67979.txt', 'pg52281.txt', 'pg1184.txt', 'pg21012.txt', 'pg18893.txt', 'pg1727.txt', 'pg2814.txt', 'pg145.txt', 'pg1513.txt', 'pg6130.txt', 'pg28054.txt', 'pg84.txt', 'pg10907.txt', 'pg345.txt', 'pg21700.txt', 'pg98.txt', 'pg73447.txt', 'pg41445.txt', 'pg35899.txt', 'pg1400.txt', 'pg73442.txt', 'pg76.txt', 'pg2852.txt', 'pg48191.txt', 'pg43.txt', 'pg219.txt', 'pg27827.txt', 'pg47629.txt', 'pg20228.txt', 'pg46.txt', 'pg1080.txt', 'pg2000.txt', 'pg41070.txt', 'pg1259.txt', 'pg2542.txt', 'pg2591.txt', 'pg2641.txt', 'pg45.txt', 'pg120.txt', 'pg50038.txt', 'pg61419.txt', 'pg5200.txt', 'pg4085.txt', 'pg2701.txt', 'pg55.txt', 'pg2600.txt', 'pg30254.txt', 'pg6593.txt', 'pg100.txt', 'pg45848.txt', 'pg44388.txt', 'pg52882.txt', 'pg29728.txt', 'pg205.txt', 'pg37106.txt', 'pg8800.txt', 'pg6761.txt', 'pg600.txt', 'pg44837.txt', 'pg41287.txt', 'pg10676.txt', 'pg25344.txt', 'pg67098.txt', 'pg42933.txt', 'pg394.txt', 'pg408.txt', 'pg74.txt', 'pg1260.txt', 'pg47312.txt', 'pg2554.txt', 'pg996.txt', 'pg244.txt', 'pg64317.txt', 'pg844.txt', 'pg5197.txt', 'pg7370.txt', 'pg514.txt', 'pg62119.txt', 'pg45540.txt', 'pg4300.txt', 'pg1661.txt', 'pg59469.txt'}\n",
      "Palabra: states\n",
      "Documentos: {'pg59468.txt', 'pg1952.txt', 'pg16.txt', 'pg2160.txt', 'pg3207.txt', 'pg768.txt', 'pg16389.txt', 'pg1998.txt', 'pg11.txt', 'pg1342.txt', 'pg174.txt', 'pg26073.txt', 'pg12582.txt', 'pg73444.txt', 'pg73448.txt', 'pg1232.txt', 'pg67979.txt', 'pg52281.txt', 'pg1184.txt', 'pg21012.txt', 'pg18893.txt', 'pg1727.txt', 'pg2814.txt', 'pg145.txt', 'pg1513.txt', 'pg6130.txt', 'pg28054.txt', 'pg84.txt', 'pg10907.txt', 'pg345.txt', 'pg21700.txt', 'pg98.txt', 'pg73447.txt', 'pg41445.txt', 'pg35899.txt', 'pg1400.txt', 'pg73442.txt', 'pg76.txt', 'pg2852.txt', 'pg48191.txt', 'pg43.txt', 'pg219.txt', 'pg27827.txt', 'pg47629.txt', 'pg20228.txt', 'pg46.txt', 'pg1080.txt', 'pg2000.txt', 'pg41070.txt', 'pg1259.txt', 'pg2542.txt', 'pg2591.txt', 'pg2641.txt', 'pg45.txt', 'pg120.txt', 'pg50038.txt', 'pg61419.txt', 'pg5200.txt', 'pg4085.txt', 'pg2701.txt', 'pg55.txt', 'pg2600.txt', 'pg30254.txt', 'pg6593.txt', 'pg100.txt', 'pg45848.txt', 'pg44388.txt', 'pg52882.txt', 'pg29728.txt', 'pg205.txt', 'pg37106.txt', 'pg8800.txt', 'pg6761.txt', 'pg600.txt', 'pg44837.txt', 'pg41287.txt', 'pg10676.txt', 'pg25344.txt', 'pg67098.txt', 'pg42933.txt', 'pg394.txt', 'pg408.txt', 'pg74.txt', 'pg1260.txt', 'pg47312.txt', 'pg2554.txt', 'pg996.txt', 'pg244.txt', 'pg64317.txt', 'pg844.txt', 'pg5197.txt', 'pg7370.txt', 'pg514.txt', 'pg62119.txt', 'pg45540.txt', 'pg4300.txt', 'pg1661.txt', 'pg59469.txt'}\n",
      "Palabra: and\n",
      "Documentos: {'pg59468.txt', 'pg1952.txt', 'pg16.txt', 'pg2160.txt', 'pg3207.txt', 'pg768.txt', 'pg16389.txt', 'pg1998.txt', 'pg11.txt', 'pg1342.txt', 'pg174.txt', 'pg26073.txt', 'pg12582.txt', 'pg73444.txt', 'pg73448.txt', 'pg1232.txt', 'pg67979.txt', 'pg52281.txt', 'pg1184.txt', 'pg21012.txt', 'pg18893.txt', 'pg1727.txt', 'pg2814.txt', 'pg145.txt', 'pg1513.txt', 'pg6130.txt', 'pg28054.txt', 'pg84.txt', 'pg10907.txt', 'pg345.txt', 'pg21700.txt', 'pg98.txt', 'pg73447.txt', 'pg41445.txt', 'pg35899.txt', 'pg1400.txt', 'pg73442.txt', 'pg76.txt', 'pg2852.txt', 'pg48191.txt', 'pg43.txt', 'pg219.txt', 'pg27827.txt', 'pg47629.txt', 'pg20228.txt', 'pg46.txt', 'pg1080.txt', 'pg2000.txt', 'pg41070.txt', 'pg1259.txt', 'pg2542.txt', 'pg2591.txt', 'pg2641.txt', 'pg45.txt', 'pg120.txt', 'pg50038.txt', 'pg61419.txt', 'pg5200.txt', 'pg4085.txt', 'pg2701.txt', 'pg55.txt', 'pg2600.txt', 'pg30254.txt', 'pg6593.txt', 'pg100.txt', 'pg45848.txt', 'pg44388.txt', 'pg52882.txt', 'pg29728.txt', 'pg205.txt', 'pg37106.txt', 'pg8800.txt', 'pg6761.txt', 'pg600.txt', 'pg44837.txt', 'pg41287.txt', 'pg10676.txt', 'pg25344.txt', 'pg67098.txt', 'pg42933.txt', 'pg394.txt', 'pg408.txt', 'pg74.txt', 'pg1260.txt', 'pg47312.txt', 'pg2554.txt', 'pg996.txt', 'pg244.txt', 'pg64317.txt', 'pg844.txt', 'pg5197.txt', 'pg7370.txt', 'pg514.txt', 'pg62119.txt', 'pg45540.txt', 'pg4300.txt', 'pg1661.txt', 'pg59469.txt'}\n",
      "Palabra: most\n",
      "Documentos: {'pg59468.txt', 'pg1952.txt', 'pg16.txt', 'pg2160.txt', 'pg3207.txt', 'pg768.txt', 'pg16389.txt', 'pg1998.txt', 'pg11.txt', 'pg1342.txt', 'pg174.txt', 'pg26073.txt', 'pg12582.txt', 'pg73444.txt', 'pg73448.txt', 'pg1232.txt', 'pg67979.txt', 'pg52281.txt', 'pg1184.txt', 'pg21012.txt', 'pg18893.txt', 'pg1727.txt', 'pg2814.txt', 'pg145.txt', 'pg1513.txt', 'pg6130.txt', 'pg28054.txt', 'pg84.txt', 'pg10907.txt', 'pg345.txt', 'pg21700.txt', 'pg98.txt', 'pg73447.txt', 'pg41445.txt', 'pg35899.txt', 'pg1400.txt', 'pg73442.txt', 'pg76.txt', 'pg2852.txt', 'pg48191.txt', 'pg43.txt', 'pg219.txt', 'pg27827.txt', 'pg47629.txt', 'pg20228.txt', 'pg46.txt', 'pg1080.txt', 'pg2000.txt', 'pg41070.txt', 'pg1259.txt', 'pg2542.txt', 'pg2591.txt', 'pg2641.txt', 'pg45.txt', 'pg120.txt', 'pg50038.txt', 'pg61419.txt', 'pg5200.txt', 'pg4085.txt', 'pg2701.txt', 'pg55.txt', 'pg2600.txt', 'pg30254.txt', 'pg6593.txt', 'pg100.txt', 'pg45848.txt', 'pg44388.txt', 'pg52882.txt', 'pg29728.txt', 'pg205.txt', 'pg37106.txt', 'pg8800.txt', 'pg6761.txt', 'pg600.txt', 'pg44837.txt', 'pg41287.txt', 'pg10676.txt', 'pg25344.txt', 'pg67098.txt', 'pg42933.txt', 'pg394.txt', 'pg408.txt', 'pg74.txt', 'pg1260.txt', 'pg47312.txt', 'pg2554.txt', 'pg996.txt', 'pg244.txt', 'pg64317.txt', 'pg844.txt', 'pg5197.txt', 'pg7370.txt', 'pg514.txt', 'pg62119.txt', 'pg45540.txt', 'pg4300.txt', 'pg1661.txt', 'pg59469.txt'}\n",
      "Palabra: other\n",
      "Documentos: {'pg59468.txt', 'pg1952.txt', 'pg16.txt', 'pg2160.txt', 'pg3207.txt', 'pg768.txt', 'pg16389.txt', 'pg1998.txt', 'pg11.txt', 'pg1342.txt', 'pg174.txt', 'pg26073.txt', 'pg12582.txt', 'pg73444.txt', 'pg73448.txt', 'pg1232.txt', 'pg67979.txt', 'pg52281.txt', 'pg1184.txt', 'pg21012.txt', 'pg18893.txt', 'pg1727.txt', 'pg2814.txt', 'pg145.txt', 'pg1513.txt', 'pg6130.txt', 'pg28054.txt', 'pg84.txt', 'pg10907.txt', 'pg345.txt', 'pg21700.txt', 'pg98.txt', 'pg73447.txt', 'pg41445.txt', 'pg35899.txt', 'pg1400.txt', 'pg73442.txt', 'pg76.txt', 'pg2852.txt', 'pg48191.txt', 'pg43.txt', 'pg219.txt', 'pg27827.txt', 'pg47629.txt', 'pg20228.txt', 'pg46.txt', 'pg1080.txt', 'pg2000.txt', 'pg41070.txt', 'pg1259.txt', 'pg2542.txt', 'pg2591.txt', 'pg2641.txt', 'pg45.txt', 'pg120.txt', 'pg50038.txt', 'pg61419.txt', 'pg5200.txt', 'pg4085.txt', 'pg2701.txt', 'pg55.txt', 'pg2600.txt', 'pg30254.txt', 'pg6593.txt', 'pg100.txt', 'pg45848.txt', 'pg44388.txt', 'pg52882.txt', 'pg29728.txt', 'pg205.txt', 'pg37106.txt', 'pg8800.txt', 'pg6761.txt', 'pg600.txt', 'pg44837.txt', 'pg41287.txt', 'pg10676.txt', 'pg25344.txt', 'pg67098.txt', 'pg42933.txt', 'pg394.txt', 'pg408.txt', 'pg74.txt', 'pg1260.txt', 'pg47312.txt', 'pg2554.txt', 'pg996.txt', 'pg244.txt', 'pg64317.txt', 'pg844.txt', 'pg5197.txt', 'pg7370.txt', 'pg514.txt', 'pg62119.txt', 'pg45540.txt', 'pg4300.txt', 'pg1661.txt', 'pg59469.txt'}\n",
      "Palabra: parts\n",
      "Documentos: {'pg59468.txt', 'pg1952.txt', 'pg16.txt', 'pg2160.txt', 'pg3207.txt', 'pg768.txt', 'pg16389.txt', 'pg1998.txt', 'pg11.txt', 'pg1342.txt', 'pg174.txt', 'pg26073.txt', 'pg12582.txt', 'pg73444.txt', 'pg73448.txt', 'pg1232.txt', 'pg67979.txt', 'pg52281.txt', 'pg1184.txt', 'pg21012.txt', 'pg18893.txt', 'pg1727.txt', 'pg2814.txt', 'pg145.txt', 'pg1513.txt', 'pg6130.txt', 'pg28054.txt', 'pg84.txt', 'pg10907.txt', 'pg345.txt', 'pg21700.txt', 'pg98.txt', 'pg73447.txt', 'pg41445.txt', 'pg35899.txt', 'pg1400.txt', 'pg73442.txt', 'pg76.txt', 'pg2852.txt', 'pg48191.txt', 'pg43.txt', 'pg219.txt', 'pg27827.txt', 'pg47629.txt', 'pg20228.txt', 'pg46.txt', 'pg1080.txt', 'pg2000.txt', 'pg41070.txt', 'pg1259.txt', 'pg2542.txt', 'pg2591.txt', 'pg2641.txt', 'pg45.txt', 'pg120.txt', 'pg50038.txt', 'pg61419.txt', 'pg5200.txt', 'pg4085.txt', 'pg2701.txt', 'pg55.txt', 'pg2600.txt', 'pg30254.txt', 'pg6593.txt', 'pg100.txt', 'pg45848.txt', 'pg44388.txt', 'pg52882.txt', 'pg29728.txt', 'pg205.txt', 'pg37106.txt', 'pg8800.txt', 'pg6761.txt', 'pg600.txt', 'pg44837.txt', 'pg41287.txt', 'pg10676.txt', 'pg25344.txt', 'pg67098.txt', 'pg42933.txt', 'pg394.txt', 'pg408.txt', 'pg74.txt', 'pg1260.txt', 'pg47312.txt', 'pg2554.txt', 'pg996.txt', 'pg244.txt', 'pg64317.txt', 'pg844.txt', 'pg5197.txt', 'pg7370.txt', 'pg514.txt', 'pg62119.txt', 'pg45540.txt', 'pg4300.txt', 'pg1661.txt', 'pg59469.txt'}\n",
      "Palabra: world\n",
      "Documentos: {'pg59468.txt', 'pg1952.txt', 'pg16.txt', 'pg2160.txt', 'pg3207.txt', 'pg768.txt', 'pg16389.txt', 'pg1998.txt', 'pg11.txt', 'pg1342.txt', 'pg174.txt', 'pg26073.txt', 'pg12582.txt', 'pg73444.txt', 'pg73448.txt', 'pg1232.txt', 'pg67979.txt', 'pg52281.txt', 'pg1184.txt', 'pg21012.txt', 'pg18893.txt', 'pg1727.txt', 'pg2814.txt', 'pg145.txt', 'pg1513.txt', 'pg6130.txt', 'pg28054.txt', 'pg84.txt', 'pg10907.txt', 'pg345.txt', 'pg21700.txt', 'pg98.txt', 'pg73447.txt', 'pg41445.txt', 'pg35899.txt', 'pg1400.txt', 'pg73442.txt', 'pg76.txt', 'pg2852.txt', 'pg48191.txt', 'pg43.txt', 'pg219.txt', 'pg27827.txt', 'pg47629.txt', 'pg20228.txt', 'pg46.txt', 'pg1080.txt', 'pg2000.txt', 'pg41070.txt', 'pg1259.txt', 'pg2542.txt', 'pg2591.txt', 'pg2641.txt', 'pg45.txt', 'pg120.txt', 'pg50038.txt', 'pg61419.txt', 'pg5200.txt', 'pg4085.txt', 'pg2701.txt', 'pg55.txt', 'pg2600.txt', 'pg30254.txt', 'pg6593.txt', 'pg100.txt', 'pg45848.txt', 'pg44388.txt', 'pg52882.txt', 'pg29728.txt', 'pg205.txt', 'pg37106.txt', 'pg8800.txt', 'pg6761.txt', 'pg600.txt', 'pg44837.txt', 'pg41287.txt', 'pg10676.txt', 'pg25344.txt', 'pg67098.txt', 'pg42933.txt', 'pg394.txt', 'pg408.txt', 'pg74.txt', 'pg1260.txt', 'pg47312.txt', 'pg2554.txt', 'pg996.txt', 'pg244.txt', 'pg64317.txt', 'pg844.txt', 'pg5197.txt', 'pg7370.txt', 'pg514.txt', 'pg62119.txt', 'pg45540.txt', 'pg4300.txt', 'pg1661.txt', 'pg59469.txt'}\n",
      "Palabra: at\n",
      "Documentos: {'pg59468.txt', 'pg1952.txt', 'pg16.txt', 'pg2160.txt', 'pg3207.txt', 'pg768.txt', 'pg16389.txt', 'pg1998.txt', 'pg11.txt', 'pg1342.txt', 'pg174.txt', 'pg26073.txt', 'pg12582.txt', 'pg73444.txt', 'pg73448.txt', 'pg1232.txt', 'pg67979.txt', 'pg52281.txt', 'pg1184.txt', 'pg21012.txt', 'pg18893.txt', 'pg1727.txt', 'pg2814.txt', 'pg145.txt', 'pg1513.txt', 'pg6130.txt', 'pg28054.txt', 'pg84.txt', 'pg10907.txt', 'pg345.txt', 'pg21700.txt', 'pg98.txt', 'pg73447.txt', 'pg41445.txt', 'pg35899.txt', 'pg1400.txt', 'pg73442.txt', 'pg76.txt', 'pg2852.txt', 'pg48191.txt', 'pg43.txt', 'pg219.txt', 'pg27827.txt', 'pg47629.txt', 'pg20228.txt', 'pg46.txt', 'pg1080.txt', 'pg2000.txt', 'pg41070.txt', 'pg1259.txt', 'pg2542.txt', 'pg2591.txt', 'pg2641.txt', 'pg45.txt', 'pg120.txt', 'pg50038.txt', 'pg61419.txt', 'pg5200.txt', 'pg4085.txt', 'pg2701.txt', 'pg55.txt', 'pg2600.txt', 'pg30254.txt', 'pg6593.txt', 'pg100.txt', 'pg45848.txt', 'pg44388.txt', 'pg52882.txt', 'pg29728.txt', 'pg205.txt', 'pg37106.txt', 'pg8800.txt', 'pg6761.txt', 'pg600.txt', 'pg44837.txt', 'pg41287.txt', 'pg10676.txt', 'pg25344.txt', 'pg67098.txt', 'pg42933.txt', 'pg394.txt', 'pg408.txt', 'pg74.txt', 'pg1260.txt', 'pg47312.txt', 'pg2554.txt', 'pg996.txt', 'pg244.txt', 'pg64317.txt', 'pg844.txt', 'pg5197.txt', 'pg7370.txt', 'pg514.txt', 'pg62119.txt', 'pg45540.txt', 'pg4300.txt', 'pg1661.txt', 'pg59469.txt'}\n",
      "Palabra: no\n",
      "Documentos: {'pg59468.txt', 'pg1952.txt', 'pg16.txt', 'pg2160.txt', 'pg3207.txt', 'pg768.txt', 'pg16389.txt', 'pg1998.txt', 'pg11.txt', 'pg1342.txt', 'pg174.txt', 'pg26073.txt', 'pg12582.txt', 'pg73444.txt', 'pg73448.txt', 'pg1232.txt', 'pg67979.txt', 'pg52281.txt', 'pg1184.txt', 'pg21012.txt', 'pg18893.txt', 'pg1727.txt', 'pg2814.txt', 'pg145.txt', 'pg1513.txt', 'pg6130.txt', 'pg28054.txt', 'pg84.txt', 'pg10907.txt', 'pg345.txt', 'pg21700.txt', 'pg98.txt', 'pg73447.txt', 'pg41445.txt', 'pg35899.txt', 'pg1400.txt', 'pg73442.txt', 'pg76.txt', 'pg2852.txt', 'pg48191.txt', 'pg43.txt', 'pg219.txt', 'pg27827.txt', 'pg47629.txt', 'pg20228.txt', 'pg46.txt', 'pg1080.txt', 'pg2000.txt', 'pg41070.txt', 'pg1259.txt', 'pg2542.txt', 'pg2591.txt', 'pg2641.txt', 'pg45.txt', 'pg120.txt', 'pg50038.txt', 'pg61419.txt', 'pg5200.txt', 'pg4085.txt', 'pg2701.txt', 'pg55.txt', 'pg2600.txt', 'pg30254.txt', 'pg6593.txt', 'pg100.txt', 'pg45848.txt', 'pg44388.txt', 'pg52882.txt', 'pg29728.txt', 'pg205.txt', 'pg37106.txt', 'pg8800.txt', 'pg6761.txt', 'pg600.txt', 'pg44837.txt', 'pg41287.txt', 'pg10676.txt', 'pg25344.txt', 'pg67098.txt', 'pg42933.txt', 'pg394.txt', 'pg408.txt', 'pg74.txt', 'pg1260.txt', 'pg47312.txt', 'pg2554.txt', 'pg996.txt', 'pg244.txt', 'pg64317.txt', 'pg844.txt', 'pg5197.txt', 'pg7370.txt', 'pg514.txt', 'pg62119.txt', 'pg45540.txt', 'pg4300.txt', 'pg1661.txt', 'pg59469.txt'}\n",
      "Palabra: cost\n",
      "Documentos: {'pg59468.txt', 'pg1952.txt', 'pg16.txt', 'pg2160.txt', 'pg3207.txt', 'pg768.txt', 'pg16389.txt', 'pg1998.txt', 'pg11.txt', 'pg1342.txt', 'pg174.txt', 'pg26073.txt', 'pg12582.txt', 'pg73444.txt', 'pg73448.txt', 'pg1232.txt', 'pg67979.txt', 'pg52281.txt', 'pg1184.txt', 'pg21012.txt', 'pg18893.txt', 'pg1727.txt', 'pg2814.txt', 'pg145.txt', 'pg1513.txt', 'pg6130.txt', 'pg28054.txt', 'pg84.txt', 'pg10907.txt', 'pg345.txt', 'pg21700.txt', 'pg98.txt', 'pg73447.txt', 'pg41445.txt', 'pg35899.txt', 'pg1400.txt', 'pg73442.txt', 'pg76.txt', 'pg2852.txt', 'pg48191.txt', 'pg43.txt', 'pg219.txt', 'pg27827.txt', 'pg47629.txt', 'pg20228.txt', 'pg46.txt', 'pg1080.txt', 'pg2000.txt', 'pg41070.txt', 'pg1259.txt', 'pg2542.txt', 'pg2591.txt', 'pg2641.txt', 'pg45.txt', 'pg120.txt', 'pg50038.txt', 'pg61419.txt', 'pg5200.txt', 'pg4085.txt', 'pg2701.txt', 'pg55.txt', 'pg2600.txt', 'pg30254.txt', 'pg6593.txt', 'pg100.txt', 'pg45848.txt', 'pg44388.txt', 'pg52882.txt', 'pg29728.txt', 'pg205.txt', 'pg37106.txt', 'pg8800.txt', 'pg6761.txt', 'pg600.txt', 'pg44837.txt', 'pg41287.txt', 'pg10676.txt', 'pg25344.txt', 'pg67098.txt', 'pg42933.txt', 'pg394.txt', 'pg408.txt', 'pg74.txt', 'pg1260.txt', 'pg47312.txt', 'pg2554.txt', 'pg996.txt', 'pg244.txt', 'pg64317.txt', 'pg844.txt', 'pg5197.txt', 'pg7370.txt', 'pg514.txt', 'pg62119.txt', 'pg45540.txt', 'pg4300.txt', 'pg1661.txt', 'pg59469.txt'}\n",
      "Palabra: with\n",
      "Documentos: {'pg59468.txt', 'pg1952.txt', 'pg16.txt', 'pg2160.txt', 'pg3207.txt', 'pg768.txt', 'pg16389.txt', 'pg1998.txt', 'pg11.txt', 'pg1342.txt', 'pg174.txt', 'pg26073.txt', 'pg12582.txt', 'pg73444.txt', 'pg73448.txt', 'pg1232.txt', 'pg67979.txt', 'pg52281.txt', 'pg1184.txt', 'pg21012.txt', 'pg18893.txt', 'pg1727.txt', 'pg2814.txt', 'pg145.txt', 'pg1513.txt', 'pg6130.txt', 'pg28054.txt', 'pg84.txt', 'pg10907.txt', 'pg345.txt', 'pg21700.txt', 'pg98.txt', 'pg73447.txt', 'pg41445.txt', 'pg35899.txt', 'pg1400.txt', 'pg73442.txt', 'pg76.txt', 'pg2852.txt', 'pg48191.txt', 'pg43.txt', 'pg219.txt', 'pg27827.txt', 'pg47629.txt', 'pg20228.txt', 'pg46.txt', 'pg1080.txt', 'pg2000.txt', 'pg41070.txt', 'pg1259.txt', 'pg2542.txt', 'pg2591.txt', 'pg2641.txt', 'pg45.txt', 'pg120.txt', 'pg50038.txt', 'pg61419.txt', 'pg5200.txt', 'pg4085.txt', 'pg2701.txt', 'pg55.txt', 'pg2600.txt', 'pg30254.txt', 'pg6593.txt', 'pg100.txt', 'pg45848.txt', 'pg44388.txt', 'pg52882.txt', 'pg29728.txt', 'pg205.txt', 'pg37106.txt', 'pg8800.txt', 'pg6761.txt', 'pg600.txt', 'pg44837.txt', 'pg41287.txt', 'pg10676.txt', 'pg25344.txt', 'pg67098.txt', 'pg42933.txt', 'pg394.txt', 'pg408.txt', 'pg74.txt', 'pg1260.txt', 'pg47312.txt', 'pg2554.txt', 'pg996.txt', 'pg244.txt', 'pg64317.txt', 'pg844.txt', 'pg5197.txt', 'pg7370.txt', 'pg514.txt', 'pg62119.txt', 'pg45540.txt', 'pg4300.txt', 'pg1661.txt', 'pg59469.txt'}\n",
      "Palabra: almost\n",
      "Documentos: {'pg59468.txt', 'pg1952.txt', 'pg16.txt', 'pg2160.txt', 'pg3207.txt', 'pg768.txt', 'pg16389.txt', 'pg1998.txt', 'pg11.txt', 'pg1342.txt', 'pg174.txt', 'pg26073.txt', 'pg12582.txt', 'pg73444.txt', 'pg73448.txt', 'pg1232.txt', 'pg67979.txt', 'pg52281.txt', 'pg1184.txt', 'pg21012.txt', 'pg18893.txt', 'pg1727.txt', 'pg2814.txt', 'pg145.txt', 'pg1513.txt', 'pg6130.txt', 'pg28054.txt', 'pg84.txt', 'pg10907.txt', 'pg345.txt', 'pg21700.txt', 'pg98.txt', 'pg73447.txt', 'pg41445.txt', 'pg35899.txt', 'pg1400.txt', 'pg73442.txt', 'pg76.txt', 'pg2852.txt', 'pg48191.txt', 'pg43.txt', 'pg219.txt', 'pg27827.txt', 'pg47629.txt', 'pg20228.txt', 'pg46.txt', 'pg1080.txt', 'pg2000.txt', 'pg41070.txt', 'pg1259.txt', 'pg2542.txt', 'pg2591.txt', 'pg2641.txt', 'pg45.txt', 'pg120.txt', 'pg50038.txt', 'pg61419.txt', 'pg5200.txt', 'pg4085.txt', 'pg2701.txt', 'pg55.txt', 'pg2600.txt', 'pg30254.txt', 'pg6593.txt', 'pg100.txt', 'pg45848.txt', 'pg44388.txt', 'pg52882.txt', 'pg29728.txt', 'pg205.txt', 'pg37106.txt', 'pg8800.txt', 'pg6761.txt', 'pg600.txt', 'pg44837.txt', 'pg41287.txt', 'pg10676.txt', 'pg25344.txt', 'pg67098.txt', 'pg42933.txt', 'pg394.txt', 'pg408.txt', 'pg74.txt', 'pg1260.txt', 'pg47312.txt', 'pg2554.txt', 'pg996.txt', 'pg244.txt', 'pg64317.txt', 'pg844.txt', 'pg5197.txt', 'pg7370.txt', 'pg514.txt', 'pg62119.txt', 'pg45540.txt', 'pg4300.txt', 'pg1661.txt', 'pg59469.txt'}\n",
      "Palabra: restrictions\n",
      "Documentos: {'pg59468.txt', 'pg1952.txt', 'pg16.txt', 'pg2160.txt', 'pg3207.txt', 'pg768.txt', 'pg16389.txt', 'pg1998.txt', 'pg11.txt', 'pg1342.txt', 'pg174.txt', 'pg26073.txt', 'pg12582.txt', 'pg73444.txt', 'pg73448.txt', 'pg1232.txt', 'pg67979.txt', 'pg52281.txt', 'pg1184.txt', 'pg21012.txt', 'pg18893.txt', 'pg1727.txt', 'pg2814.txt', 'pg145.txt', 'pg1513.txt', 'pg6130.txt', 'pg28054.txt', 'pg84.txt', 'pg10907.txt', 'pg345.txt', 'pg21700.txt', 'pg98.txt', 'pg73447.txt', 'pg41445.txt', 'pg35899.txt', 'pg1400.txt', 'pg73442.txt', 'pg76.txt', 'pg2852.txt', 'pg48191.txt', 'pg43.txt', 'pg219.txt', 'pg27827.txt', 'pg47629.txt', 'pg20228.txt', 'pg46.txt', 'pg1080.txt', 'pg2000.txt', 'pg41070.txt', 'pg1259.txt', 'pg2542.txt', 'pg2591.txt', 'pg2641.txt', 'pg45.txt', 'pg120.txt', 'pg50038.txt', 'pg61419.txt', 'pg5200.txt', 'pg4085.txt', 'pg2701.txt', 'pg55.txt', 'pg2600.txt', 'pg30254.txt', 'pg6593.txt', 'pg100.txt', 'pg45848.txt', 'pg44388.txt', 'pg52882.txt', 'pg29728.txt', 'pg205.txt', 'pg37106.txt', 'pg8800.txt', 'pg6761.txt', 'pg600.txt', 'pg44837.txt', 'pg41287.txt', 'pg10676.txt', 'pg25344.txt', 'pg67098.txt', 'pg42933.txt', 'pg394.txt', 'pg408.txt', 'pg74.txt', 'pg1260.txt', 'pg47312.txt', 'pg2554.txt', 'pg996.txt', 'pg244.txt', 'pg64317.txt', 'pg844.txt', 'pg5197.txt', 'pg7370.txt', 'pg514.txt', 'pg62119.txt', 'pg45540.txt', 'pg4300.txt', 'pg1661.txt', 'pg59469.txt'}\n",
      "Palabra: whatsoever\n",
      "Documentos: {'pg59468.txt', 'pg1952.txt', 'pg16.txt', 'pg2160.txt', 'pg3207.txt', 'pg768.txt', 'pg16389.txt', 'pg1998.txt', 'pg11.txt', 'pg1342.txt', 'pg174.txt', 'pg26073.txt', 'pg12582.txt', 'pg73444.txt', 'pg73448.txt', 'pg1232.txt', 'pg67979.txt', 'pg52281.txt', 'pg1184.txt', 'pg21012.txt', 'pg18893.txt', 'pg1727.txt', 'pg2814.txt', 'pg145.txt', 'pg1513.txt', 'pg6130.txt', 'pg28054.txt', 'pg84.txt', 'pg10907.txt', 'pg345.txt', 'pg21700.txt', 'pg98.txt', 'pg73447.txt', 'pg41445.txt', 'pg35899.txt', 'pg1400.txt', 'pg73442.txt', 'pg76.txt', 'pg2852.txt', 'pg48191.txt', 'pg43.txt', 'pg219.txt', 'pg27827.txt', 'pg47629.txt', 'pg20228.txt', 'pg46.txt', 'pg1080.txt', 'pg2000.txt', 'pg41070.txt', 'pg1259.txt', 'pg2542.txt', 'pg2591.txt', 'pg2641.txt', 'pg45.txt', 'pg120.txt', 'pg50038.txt', 'pg61419.txt', 'pg5200.txt', 'pg4085.txt', 'pg2701.txt', 'pg55.txt', 'pg2600.txt', 'pg30254.txt', 'pg6593.txt', 'pg100.txt', 'pg45848.txt', 'pg44388.txt', 'pg52882.txt', 'pg29728.txt', 'pg205.txt', 'pg37106.txt', 'pg8800.txt', 'pg6761.txt', 'pg600.txt', 'pg44837.txt', 'pg41287.txt', 'pg10676.txt', 'pg25344.txt', 'pg67098.txt', 'pg42933.txt', 'pg394.txt', 'pg408.txt', 'pg74.txt', 'pg1260.txt', 'pg47312.txt', 'pg2554.txt', 'pg996.txt', 'pg244.txt', 'pg64317.txt', 'pg844.txt', 'pg5197.txt', 'pg7370.txt', 'pg514.txt', 'pg62119.txt', 'pg45540.txt', 'pg4300.txt', 'pg1661.txt', 'pg59469.txt'}\n",
      "Palabra: you\n",
      "Documentos: {'pg59468.txt', 'pg1952.txt', 'pg16.txt', 'pg2160.txt', 'pg3207.txt', 'pg768.txt', 'pg16389.txt', 'pg1998.txt', 'pg11.txt', 'pg1342.txt', 'pg174.txt', 'pg26073.txt', 'pg12582.txt', 'pg73444.txt', 'pg73448.txt', 'pg1232.txt', 'pg67979.txt', 'pg52281.txt', 'pg1184.txt', 'pg21012.txt', 'pg18893.txt', 'pg1727.txt', 'pg2814.txt', 'pg145.txt', 'pg1513.txt', 'pg6130.txt', 'pg28054.txt', 'pg84.txt', 'pg10907.txt', 'pg345.txt', 'pg21700.txt', 'pg98.txt', 'pg73447.txt', 'pg41445.txt', 'pg35899.txt', 'pg1400.txt', 'pg73442.txt', 'pg76.txt', 'pg2852.txt', 'pg48191.txt', 'pg43.txt', 'pg219.txt', 'pg27827.txt', 'pg47629.txt', 'pg20228.txt', 'pg46.txt', 'pg1080.txt', 'pg2000.txt', 'pg41070.txt', 'pg1259.txt', 'pg2542.txt', 'pg2591.txt', 'pg2641.txt', 'pg45.txt', 'pg120.txt', 'pg50038.txt', 'pg61419.txt', 'pg5200.txt', 'pg4085.txt', 'pg2701.txt', 'pg55.txt', 'pg2600.txt', 'pg30254.txt', 'pg6593.txt', 'pg100.txt', 'pg45848.txt', 'pg44388.txt', 'pg52882.txt', 'pg29728.txt', 'pg205.txt', 'pg37106.txt', 'pg8800.txt', 'pg6761.txt', 'pg600.txt', 'pg44837.txt', 'pg41287.txt', 'pg10676.txt', 'pg25344.txt', 'pg67098.txt', 'pg42933.txt', 'pg394.txt', 'pg408.txt', 'pg74.txt', 'pg1260.txt', 'pg47312.txt', 'pg2554.txt', 'pg996.txt', 'pg244.txt', 'pg64317.txt', 'pg844.txt', 'pg5197.txt', 'pg7370.txt', 'pg514.txt', 'pg62119.txt', 'pg45540.txt', 'pg4300.txt', 'pg1661.txt', 'pg59469.txt'}\n",
      "Palabra: may\n",
      "Documentos: {'pg59468.txt', 'pg1952.txt', 'pg16.txt', 'pg2160.txt', 'pg3207.txt', 'pg768.txt', 'pg16389.txt', 'pg1998.txt', 'pg11.txt', 'pg1342.txt', 'pg174.txt', 'pg26073.txt', 'pg12582.txt', 'pg73444.txt', 'pg73448.txt', 'pg1232.txt', 'pg67979.txt', 'pg52281.txt', 'pg1184.txt', 'pg21012.txt', 'pg18893.txt', 'pg1727.txt', 'pg2814.txt', 'pg145.txt', 'pg1513.txt', 'pg6130.txt', 'pg28054.txt', 'pg84.txt', 'pg10907.txt', 'pg345.txt', 'pg21700.txt', 'pg98.txt', 'pg73447.txt', 'pg41445.txt', 'pg35899.txt', 'pg1400.txt', 'pg73442.txt', 'pg76.txt', 'pg2852.txt', 'pg48191.txt', 'pg43.txt', 'pg219.txt', 'pg27827.txt', 'pg47629.txt', 'pg20228.txt', 'pg46.txt', 'pg1080.txt', 'pg2000.txt', 'pg41070.txt', 'pg1259.txt', 'pg2542.txt', 'pg2591.txt', 'pg2641.txt', 'pg45.txt', 'pg120.txt', 'pg50038.txt', 'pg61419.txt', 'pg5200.txt', 'pg4085.txt', 'pg2701.txt', 'pg55.txt', 'pg2600.txt', 'pg30254.txt', 'pg6593.txt', 'pg100.txt', 'pg45848.txt', 'pg44388.txt', 'pg52882.txt', 'pg29728.txt', 'pg205.txt', 'pg37106.txt', 'pg8800.txt', 'pg6761.txt', 'pg600.txt', 'pg44837.txt', 'pg41287.txt', 'pg10676.txt', 'pg25344.txt', 'pg67098.txt', 'pg42933.txt', 'pg394.txt', 'pg408.txt', 'pg74.txt', 'pg1260.txt', 'pg47312.txt', 'pg2554.txt', 'pg996.txt', 'pg244.txt', 'pg64317.txt', 'pg844.txt', 'pg5197.txt', 'pg7370.txt', 'pg514.txt', 'pg62119.txt', 'pg45540.txt', 'pg4300.txt', 'pg1661.txt', 'pg59469.txt'}\n",
      "Palabra: copy\n",
      "Documentos: {'pg59468.txt', 'pg1952.txt', 'pg16.txt', 'pg2160.txt', 'pg3207.txt', 'pg768.txt', 'pg16389.txt', 'pg1998.txt', 'pg11.txt', 'pg1342.txt', 'pg174.txt', 'pg26073.txt', 'pg12582.txt', 'pg73444.txt', 'pg73448.txt', 'pg1232.txt', 'pg67979.txt', 'pg52281.txt', 'pg1184.txt', 'pg21012.txt', 'pg18893.txt', 'pg1727.txt', 'pg2814.txt', 'pg145.txt', 'pg1513.txt', 'pg6130.txt', 'pg28054.txt', 'pg84.txt', 'pg10907.txt', 'pg345.txt', 'pg21700.txt', 'pg98.txt', 'pg73447.txt', 'pg41445.txt', 'pg35899.txt', 'pg1400.txt', 'pg73442.txt', 'pg76.txt', 'pg2852.txt', 'pg48191.txt', 'pg43.txt', 'pg219.txt', 'pg27827.txt', 'pg47629.txt', 'pg20228.txt', 'pg46.txt', 'pg1080.txt', 'pg2000.txt', 'pg41070.txt', 'pg1259.txt', 'pg2542.txt', 'pg2591.txt', 'pg2641.txt', 'pg45.txt', 'pg120.txt', 'pg50038.txt', 'pg61419.txt', 'pg5200.txt', 'pg4085.txt', 'pg2701.txt', 'pg55.txt', 'pg2600.txt', 'pg30254.txt', 'pg6593.txt', 'pg100.txt', 'pg45848.txt', 'pg44388.txt', 'pg52882.txt', 'pg29728.txt', 'pg205.txt', 'pg37106.txt', 'pg8800.txt', 'pg6761.txt', 'pg600.txt', 'pg44837.txt', 'pg41287.txt', 'pg10676.txt', 'pg25344.txt', 'pg67098.txt', 'pg42933.txt', 'pg394.txt', 'pg408.txt', 'pg74.txt', 'pg1260.txt', 'pg47312.txt', 'pg2554.txt', 'pg996.txt', 'pg244.txt', 'pg64317.txt', 'pg844.txt', 'pg5197.txt', 'pg7370.txt', 'pg514.txt', 'pg62119.txt', 'pg45540.txt', 'pg4300.txt', 'pg1661.txt', 'pg59469.txt'}\n",
      "Palabra: it\n",
      "Documentos: {'pg59468.txt', 'pg1952.txt', 'pg16.txt', 'pg2160.txt', 'pg3207.txt', 'pg768.txt', 'pg16389.txt', 'pg1998.txt', 'pg11.txt', 'pg1342.txt', 'pg174.txt', 'pg26073.txt', 'pg12582.txt', 'pg73444.txt', 'pg73448.txt', 'pg1232.txt', 'pg67979.txt', 'pg52281.txt', 'pg1184.txt', 'pg21012.txt', 'pg18893.txt', 'pg1727.txt', 'pg2814.txt', 'pg145.txt', 'pg1513.txt', 'pg6130.txt', 'pg28054.txt', 'pg84.txt', 'pg10907.txt', 'pg345.txt', 'pg21700.txt', 'pg98.txt', 'pg73447.txt', 'pg41445.txt', 'pg35899.txt', 'pg1400.txt', 'pg73442.txt', 'pg76.txt', 'pg2852.txt', 'pg48191.txt', 'pg43.txt', 'pg219.txt', 'pg27827.txt', 'pg47629.txt', 'pg20228.txt', 'pg46.txt', 'pg1080.txt', 'pg2000.txt', 'pg41070.txt', 'pg1259.txt', 'pg2542.txt', 'pg2591.txt', 'pg2641.txt', 'pg45.txt', 'pg120.txt', 'pg50038.txt', 'pg61419.txt', 'pg5200.txt', 'pg4085.txt', 'pg2701.txt', 'pg55.txt', 'pg2600.txt', 'pg30254.txt', 'pg6593.txt', 'pg100.txt', 'pg45848.txt', 'pg44388.txt', 'pg52882.txt', 'pg29728.txt', 'pg205.txt', 'pg37106.txt', 'pg8800.txt', 'pg6761.txt', 'pg600.txt', 'pg44837.txt', 'pg41287.txt', 'pg10676.txt', 'pg25344.txt', 'pg67098.txt', 'pg42933.txt', 'pg394.txt', 'pg408.txt', 'pg74.txt', 'pg1260.txt', 'pg47312.txt', 'pg2554.txt', 'pg996.txt', 'pg244.txt', 'pg64317.txt', 'pg844.txt', 'pg5197.txt', 'pg7370.txt', 'pg514.txt', 'pg62119.txt', 'pg45540.txt', 'pg4300.txt', 'pg1661.txt', 'pg59469.txt'}\n",
      "Palabra: give\n",
      "Documentos: {'pg59468.txt', 'pg1952.txt', 'pg16.txt', 'pg2160.txt', 'pg3207.txt', 'pg768.txt', 'pg16389.txt', 'pg1998.txt', 'pg11.txt', 'pg1342.txt', 'pg174.txt', 'pg26073.txt', 'pg12582.txt', 'pg73444.txt', 'pg73448.txt', 'pg1232.txt', 'pg67979.txt', 'pg52281.txt', 'pg1184.txt', 'pg21012.txt', 'pg18893.txt', 'pg1727.txt', 'pg2814.txt', 'pg145.txt', 'pg1513.txt', 'pg6130.txt', 'pg28054.txt', 'pg84.txt', 'pg10907.txt', 'pg345.txt', 'pg21700.txt', 'pg98.txt', 'pg73447.txt', 'pg41445.txt', 'pg35899.txt', 'pg1400.txt', 'pg73442.txt', 'pg76.txt', 'pg2852.txt', 'pg48191.txt', 'pg43.txt', 'pg219.txt', 'pg27827.txt', 'pg47629.txt', 'pg20228.txt', 'pg46.txt', 'pg1080.txt', 'pg2000.txt', 'pg41070.txt', 'pg1259.txt', 'pg2542.txt', 'pg2591.txt', 'pg2641.txt', 'pg45.txt', 'pg120.txt', 'pg50038.txt', 'pg61419.txt', 'pg5200.txt', 'pg4085.txt', 'pg2701.txt', 'pg55.txt', 'pg2600.txt', 'pg30254.txt', 'pg6593.txt', 'pg100.txt', 'pg45848.txt', 'pg44388.txt', 'pg52882.txt', 'pg29728.txt', 'pg205.txt', 'pg37106.txt', 'pg8800.txt', 'pg6761.txt', 'pg600.txt', 'pg44837.txt', 'pg41287.txt', 'pg10676.txt', 'pg25344.txt', 'pg67098.txt', 'pg42933.txt', 'pg394.txt', 'pg408.txt', 'pg74.txt', 'pg1260.txt', 'pg47312.txt', 'pg2554.txt', 'pg996.txt', 'pg244.txt', 'pg64317.txt', 'pg844.txt', 'pg5197.txt', 'pg7370.txt', 'pg514.txt', 'pg62119.txt', 'pg45540.txt', 'pg4300.txt', 'pg1661.txt', 'pg59469.txt'}\n",
      "Palabra: away\n",
      "Documentos: {'pg59468.txt', 'pg1952.txt', 'pg16.txt', 'pg2160.txt', 'pg3207.txt', 'pg768.txt', 'pg16389.txt', 'pg1998.txt', 'pg11.txt', 'pg1342.txt', 'pg174.txt', 'pg26073.txt', 'pg12582.txt', 'pg73444.txt', 'pg73448.txt', 'pg1232.txt', 'pg67979.txt', 'pg52281.txt', 'pg1184.txt', 'pg21012.txt', 'pg18893.txt', 'pg1727.txt', 'pg2814.txt', 'pg145.txt', 'pg1513.txt', 'pg6130.txt', 'pg28054.txt', 'pg84.txt', 'pg10907.txt', 'pg345.txt', 'pg21700.txt', 'pg98.txt', 'pg73447.txt', 'pg41445.txt', 'pg35899.txt', 'pg1400.txt', 'pg73442.txt', 'pg76.txt', 'pg2852.txt', 'pg48191.txt', 'pg43.txt', 'pg219.txt', 'pg27827.txt', 'pg47629.txt', 'pg20228.txt', 'pg46.txt', 'pg1080.txt', 'pg2000.txt', 'pg41070.txt', 'pg1259.txt', 'pg2542.txt', 'pg2591.txt', 'pg2641.txt', 'pg45.txt', 'pg120.txt', 'pg50038.txt', 'pg61419.txt', 'pg5200.txt', 'pg4085.txt', 'pg2701.txt', 'pg55.txt', 'pg2600.txt', 'pg30254.txt', 'pg6593.txt', 'pg100.txt', 'pg45848.txt', 'pg44388.txt', 'pg52882.txt', 'pg29728.txt', 'pg205.txt', 'pg37106.txt', 'pg8800.txt', 'pg6761.txt', 'pg600.txt', 'pg44837.txt', 'pg41287.txt', 'pg10676.txt', 'pg25344.txt', 'pg67098.txt', 'pg42933.txt', 'pg394.txt', 'pg408.txt', 'pg74.txt', 'pg1260.txt', 'pg47312.txt', 'pg2554.txt', 'pg996.txt', 'pg244.txt', 'pg64317.txt', 'pg844.txt', 'pg5197.txt', 'pg7370.txt', 'pg514.txt', 'pg62119.txt', 'pg45540.txt', 'pg4300.txt', 'pg1661.txt', 'pg59469.txt'}\n",
      "Palabra: or\n",
      "Documentos: {'pg59468.txt', 'pg1952.txt', 'pg16.txt', 'pg2160.txt', 'pg3207.txt', 'pg768.txt', 'pg16389.txt', 'pg1998.txt', 'pg11.txt', 'pg1342.txt', 'pg174.txt', 'pg26073.txt', 'pg12582.txt', 'pg73444.txt', 'pg73448.txt', 'pg1232.txt', 'pg67979.txt', 'pg52281.txt', 'pg1184.txt', 'pg21012.txt', 'pg18893.txt', 'pg1727.txt', 'pg2814.txt', 'pg145.txt', 'pg1513.txt', 'pg6130.txt', 'pg28054.txt', 'pg84.txt', 'pg10907.txt', 'pg345.txt', 'pg21700.txt', 'pg98.txt', 'pg73447.txt', 'pg41445.txt', 'pg35899.txt', 'pg1400.txt', 'pg73442.txt', 'pg76.txt', 'pg2852.txt', 'pg48191.txt', 'pg43.txt', 'pg219.txt', 'pg27827.txt', 'pg47629.txt', 'pg20228.txt', 'pg46.txt', 'pg1080.txt', 'pg2000.txt', 'pg41070.txt', 'pg1259.txt', 'pg2542.txt', 'pg2591.txt', 'pg2641.txt', 'pg45.txt', 'pg120.txt', 'pg50038.txt', 'pg61419.txt', 'pg5200.txt', 'pg4085.txt', 'pg2701.txt', 'pg55.txt', 'pg2600.txt', 'pg30254.txt', 'pg6593.txt', 'pg100.txt', 'pg45848.txt', 'pg44388.txt', 'pg52882.txt', 'pg29728.txt', 'pg205.txt', 'pg37106.txt', 'pg8800.txt', 'pg6761.txt', 'pg600.txt', 'pg44837.txt', 'pg41287.txt', 'pg10676.txt', 'pg25344.txt', 'pg67098.txt', 'pg42933.txt', 'pg394.txt', 'pg408.txt', 'pg74.txt', 'pg1260.txt', 'pg47312.txt', 'pg2554.txt', 'pg996.txt', 'pg244.txt', 'pg64317.txt', 'pg844.txt', 'pg5197.txt', 'pg7370.txt', 'pg514.txt', 'pg62119.txt', 'pg45540.txt', 'pg4300.txt', 'pg1661.txt', 'pg59469.txt'}\n",
      "Palabra: re\n",
      "Documentos: {'pg59468.txt', 'pg1952.txt', 'pg16.txt', 'pg2160.txt', 'pg3207.txt', 'pg768.txt', 'pg16389.txt', 'pg1998.txt', 'pg11.txt', 'pg1342.txt', 'pg174.txt', 'pg26073.txt', 'pg12582.txt', 'pg73444.txt', 'pg73448.txt', 'pg1232.txt', 'pg67979.txt', 'pg52281.txt', 'pg1184.txt', 'pg21012.txt', 'pg18893.txt', 'pg1727.txt', 'pg2814.txt', 'pg145.txt', 'pg1513.txt', 'pg6130.txt', 'pg28054.txt', 'pg84.txt', 'pg10907.txt', 'pg345.txt', 'pg21700.txt', 'pg98.txt', 'pg73447.txt', 'pg41445.txt', 'pg35899.txt', 'pg1400.txt', 'pg73442.txt', 'pg76.txt', 'pg2852.txt', 'pg48191.txt', 'pg43.txt', 'pg219.txt', 'pg27827.txt', 'pg47629.txt', 'pg20228.txt', 'pg46.txt', 'pg1080.txt', 'pg2000.txt', 'pg41070.txt', 'pg1259.txt', 'pg2542.txt', 'pg2591.txt', 'pg2641.txt', 'pg45.txt', 'pg120.txt', 'pg50038.txt', 'pg61419.txt', 'pg5200.txt', 'pg4085.txt', 'pg2701.txt', 'pg55.txt', 'pg2600.txt', 'pg30254.txt', 'pg6593.txt', 'pg100.txt', 'pg45848.txt', 'pg44388.txt', 'pg52882.txt', 'pg29728.txt', 'pg205.txt', 'pg37106.txt', 'pg8800.txt', 'pg6761.txt', 'pg600.txt', 'pg44837.txt', 'pg41287.txt', 'pg10676.txt', 'pg25344.txt', 'pg67098.txt', 'pg42933.txt', 'pg394.txt', 'pg408.txt', 'pg74.txt', 'pg1260.txt', 'pg47312.txt', 'pg2554.txt', 'pg996.txt', 'pg244.txt', 'pg64317.txt', 'pg844.txt', 'pg5197.txt', 'pg7370.txt', 'pg514.txt', 'pg62119.txt', 'pg45540.txt', 'pg4300.txt', 'pg1661.txt', 'pg59469.txt'}\n",
      "Palabra: under\n",
      "Documentos: {'pg59468.txt', 'pg1952.txt', 'pg16.txt', 'pg2160.txt', 'pg3207.txt', 'pg768.txt', 'pg16389.txt', 'pg1998.txt', 'pg11.txt', 'pg1342.txt', 'pg174.txt', 'pg26073.txt', 'pg12582.txt', 'pg73444.txt', 'pg73448.txt', 'pg1232.txt', 'pg67979.txt', 'pg52281.txt', 'pg1184.txt', 'pg21012.txt', 'pg18893.txt', 'pg1727.txt', 'pg2814.txt', 'pg145.txt', 'pg1513.txt', 'pg6130.txt', 'pg28054.txt', 'pg84.txt', 'pg10907.txt', 'pg345.txt', 'pg21700.txt', 'pg98.txt', 'pg73447.txt', 'pg41445.txt', 'pg35899.txt', 'pg1400.txt', 'pg73442.txt', 'pg76.txt', 'pg2852.txt', 'pg48191.txt', 'pg43.txt', 'pg219.txt', 'pg27827.txt', 'pg47629.txt', 'pg20228.txt', 'pg46.txt', 'pg1080.txt', 'pg2000.txt', 'pg41070.txt', 'pg1259.txt', 'pg2542.txt', 'pg2591.txt', 'pg2641.txt', 'pg45.txt', 'pg120.txt', 'pg50038.txt', 'pg61419.txt', 'pg5200.txt', 'pg4085.txt', 'pg2701.txt', 'pg55.txt', 'pg2600.txt', 'pg30254.txt', 'pg6593.txt', 'pg100.txt', 'pg45848.txt', 'pg44388.txt', 'pg52882.txt', 'pg29728.txt', 'pg205.txt', 'pg37106.txt', 'pg8800.txt', 'pg6761.txt', 'pg600.txt', 'pg44837.txt', 'pg41287.txt', 'pg10676.txt', 'pg25344.txt', 'pg67098.txt', 'pg42933.txt', 'pg394.txt', 'pg408.txt', 'pg74.txt', 'pg1260.txt', 'pg47312.txt', 'pg2554.txt', 'pg996.txt', 'pg244.txt', 'pg64317.txt', 'pg844.txt', 'pg5197.txt', 'pg7370.txt', 'pg514.txt', 'pg62119.txt', 'pg45540.txt', 'pg4300.txt', 'pg1661.txt', 'pg59469.txt'}\n",
      "Palabra: terms\n",
      "Documentos: {'pg59468.txt', 'pg1952.txt', 'pg16.txt', 'pg2160.txt', 'pg3207.txt', 'pg768.txt', 'pg16389.txt', 'pg1998.txt', 'pg11.txt', 'pg1342.txt', 'pg174.txt', 'pg26073.txt', 'pg12582.txt', 'pg73444.txt', 'pg73448.txt', 'pg1232.txt', 'pg67979.txt', 'pg52281.txt', 'pg1184.txt', 'pg21012.txt', 'pg18893.txt', 'pg1727.txt', 'pg2814.txt', 'pg145.txt', 'pg1513.txt', 'pg6130.txt', 'pg28054.txt', 'pg84.txt', 'pg10907.txt', 'pg345.txt', 'pg21700.txt', 'pg98.txt', 'pg73447.txt', 'pg41445.txt', 'pg35899.txt', 'pg1400.txt', 'pg73442.txt', 'pg76.txt', 'pg2852.txt', 'pg48191.txt', 'pg43.txt', 'pg219.txt', 'pg27827.txt', 'pg47629.txt', 'pg20228.txt', 'pg46.txt', 'pg1080.txt', 'pg2000.txt', 'pg41070.txt', 'pg1259.txt', 'pg2542.txt', 'pg2591.txt', 'pg2641.txt', 'pg45.txt', 'pg120.txt', 'pg50038.txt', 'pg61419.txt', 'pg5200.txt', 'pg4085.txt', 'pg2701.txt', 'pg55.txt', 'pg2600.txt', 'pg30254.txt', 'pg6593.txt', 'pg100.txt', 'pg45848.txt', 'pg44388.txt', 'pg52882.txt', 'pg29728.txt', 'pg205.txt', 'pg37106.txt', 'pg8800.txt', 'pg6761.txt', 'pg600.txt', 'pg44837.txt', 'pg41287.txt', 'pg10676.txt', 'pg25344.txt', 'pg67098.txt', 'pg42933.txt', 'pg394.txt', 'pg408.txt', 'pg74.txt', 'pg1260.txt', 'pg47312.txt', 'pg2554.txt', 'pg996.txt', 'pg244.txt', 'pg64317.txt', 'pg844.txt', 'pg5197.txt', 'pg7370.txt', 'pg514.txt', 'pg62119.txt', 'pg45540.txt', 'pg4300.txt', 'pg1661.txt', 'pg59469.txt'}\n",
      "Palabra: license\n",
      "Documentos: {'pg59468.txt', 'pg1952.txt', 'pg16.txt', 'pg2160.txt', 'pg3207.txt', 'pg768.txt', 'pg16389.txt', 'pg1998.txt', 'pg11.txt', 'pg1342.txt', 'pg174.txt', 'pg26073.txt', 'pg12582.txt', 'pg73444.txt', 'pg73448.txt', 'pg1232.txt', 'pg67979.txt', 'pg52281.txt', 'pg1184.txt', 'pg21012.txt', 'pg18893.txt', 'pg1727.txt', 'pg2814.txt', 'pg145.txt', 'pg1513.txt', 'pg6130.txt', 'pg28054.txt', 'pg84.txt', 'pg10907.txt', 'pg345.txt', 'pg21700.txt', 'pg98.txt', 'pg73447.txt', 'pg41445.txt', 'pg35899.txt', 'pg1400.txt', 'pg73442.txt', 'pg76.txt', 'pg2852.txt', 'pg48191.txt', 'pg43.txt', 'pg219.txt', 'pg27827.txt', 'pg47629.txt', 'pg20228.txt', 'pg46.txt', 'pg1080.txt', 'pg2000.txt', 'pg41070.txt', 'pg1259.txt', 'pg2542.txt', 'pg2591.txt', 'pg2641.txt', 'pg45.txt', 'pg120.txt', 'pg50038.txt', 'pg61419.txt', 'pg5200.txt', 'pg4085.txt', 'pg2701.txt', 'pg55.txt', 'pg2600.txt', 'pg30254.txt', 'pg6593.txt', 'pg100.txt', 'pg45848.txt', 'pg44388.txt', 'pg52882.txt', 'pg29728.txt', 'pg205.txt', 'pg37106.txt', 'pg8800.txt', 'pg6761.txt', 'pg600.txt', 'pg44837.txt', 'pg41287.txt', 'pg10676.txt', 'pg25344.txt', 'pg67098.txt', 'pg42933.txt', 'pg394.txt', 'pg408.txt', 'pg74.txt', 'pg1260.txt', 'pg47312.txt', 'pg2554.txt', 'pg996.txt', 'pg244.txt', 'pg64317.txt', 'pg844.txt', 'pg5197.txt', 'pg7370.txt', 'pg514.txt', 'pg62119.txt', 'pg45540.txt', 'pg4300.txt', 'pg1661.txt', 'pg59469.txt'}\n",
      "Palabra: included\n",
      "Documentos: {'pg59468.txt', 'pg1952.txt', 'pg16.txt', 'pg2160.txt', 'pg3207.txt', 'pg768.txt', 'pg16389.txt', 'pg1998.txt', 'pg11.txt', 'pg1342.txt', 'pg174.txt', 'pg26073.txt', 'pg12582.txt', 'pg73444.txt', 'pg73448.txt', 'pg1232.txt', 'pg67979.txt', 'pg52281.txt', 'pg1184.txt', 'pg21012.txt', 'pg18893.txt', 'pg1727.txt', 'pg2814.txt', 'pg145.txt', 'pg1513.txt', 'pg6130.txt', 'pg28054.txt', 'pg84.txt', 'pg10907.txt', 'pg345.txt', 'pg21700.txt', 'pg98.txt', 'pg73447.txt', 'pg41445.txt', 'pg35899.txt', 'pg1400.txt', 'pg73442.txt', 'pg76.txt', 'pg2852.txt', 'pg48191.txt', 'pg43.txt', 'pg219.txt', 'pg27827.txt', 'pg47629.txt', 'pg20228.txt', 'pg46.txt', 'pg1080.txt', 'pg2000.txt', 'pg41070.txt', 'pg1259.txt', 'pg2542.txt', 'pg2591.txt', 'pg2641.txt', 'pg45.txt', 'pg120.txt', 'pg50038.txt', 'pg61419.txt', 'pg5200.txt', 'pg4085.txt', 'pg2701.txt', 'pg55.txt', 'pg2600.txt', 'pg30254.txt', 'pg6593.txt', 'pg100.txt', 'pg45848.txt', 'pg44388.txt', 'pg52882.txt', 'pg29728.txt', 'pg205.txt', 'pg37106.txt', 'pg8800.txt', 'pg6761.txt', 'pg600.txt', 'pg44837.txt', 'pg41287.txt', 'pg10676.txt', 'pg25344.txt', 'pg67098.txt', 'pg42933.txt', 'pg394.txt', 'pg408.txt', 'pg74.txt', 'pg1260.txt', 'pg47312.txt', 'pg2554.txt', 'pg996.txt', 'pg244.txt', 'pg64317.txt', 'pg844.txt', 'pg5197.txt', 'pg7370.txt', 'pg514.txt', 'pg62119.txt', 'pg45540.txt', 'pg4300.txt', 'pg1661.txt', 'pg59469.txt'}\n",
      "Palabra: online\n",
      "Documentos: {'pg59468.txt', 'pg1952.txt', 'pg16.txt', 'pg2160.txt', 'pg3207.txt', 'pg768.txt', 'pg16389.txt', 'pg1998.txt', 'pg11.txt', 'pg1342.txt', 'pg174.txt', 'pg26073.txt', 'pg12582.txt', 'pg73444.txt', 'pg73448.txt', 'pg1232.txt', 'pg67979.txt', 'pg52281.txt', 'pg1184.txt', 'pg21012.txt', 'pg18893.txt', 'pg1727.txt', 'pg2814.txt', 'pg145.txt', 'pg1513.txt', 'pg6130.txt', 'pg28054.txt', 'pg84.txt', 'pg10907.txt', 'pg345.txt', 'pg21700.txt', 'pg98.txt', 'pg73447.txt', 'pg41445.txt', 'pg35899.txt', 'pg1400.txt', 'pg73442.txt', 'pg76.txt', 'pg2852.txt', 'pg48191.txt', 'pg43.txt', 'pg219.txt', 'pg27827.txt', 'pg47629.txt', 'pg20228.txt', 'pg46.txt', 'pg1080.txt', 'pg2000.txt', 'pg41070.txt', 'pg1259.txt', 'pg2542.txt', 'pg2591.txt', 'pg2641.txt', 'pg45.txt', 'pg120.txt', 'pg50038.txt', 'pg61419.txt', 'pg5200.txt', 'pg4085.txt', 'pg2701.txt', 'pg55.txt', 'pg2600.txt', 'pg30254.txt', 'pg6593.txt', 'pg100.txt', 'pg45848.txt', 'pg44388.txt', 'pg52882.txt', 'pg29728.txt', 'pg205.txt', 'pg37106.txt', 'pg8800.txt', 'pg6761.txt', 'pg600.txt', 'pg44837.txt', 'pg41287.txt', 'pg10676.txt', 'pg25344.txt', 'pg67098.txt', 'pg42933.txt', 'pg394.txt', 'pg408.txt', 'pg74.txt', 'pg1260.txt', 'pg47312.txt', 'pg2554.txt', 'pg996.txt', 'pg244.txt', 'pg64317.txt', 'pg844.txt', 'pg5197.txt', 'pg7370.txt', 'pg514.txt', 'pg62119.txt', 'pg45540.txt', 'pg4300.txt', 'pg1661.txt', 'pg59469.txt'}\n",
      "Palabra: www\n",
      "Documentos: {'pg59468.txt', 'pg1952.txt', 'pg16.txt', 'pg2160.txt', 'pg3207.txt', 'pg768.txt', 'pg16389.txt', 'pg1998.txt', 'pg11.txt', 'pg1342.txt', 'pg174.txt', 'pg26073.txt', 'pg12582.txt', 'pg73444.txt', 'pg73448.txt', 'pg1232.txt', 'pg67979.txt', 'pg52281.txt', 'pg1184.txt', 'pg21012.txt', 'pg18893.txt', 'pg1727.txt', 'pg2814.txt', 'pg145.txt', 'pg1513.txt', 'pg6130.txt', 'pg28054.txt', 'pg84.txt', 'pg10907.txt', 'pg345.txt', 'pg21700.txt', 'pg98.txt', 'pg73447.txt', 'pg41445.txt', 'pg35899.txt', 'pg1400.txt', 'pg73442.txt', 'pg76.txt', 'pg2852.txt', 'pg48191.txt', 'pg43.txt', 'pg219.txt', 'pg27827.txt', 'pg47629.txt', 'pg20228.txt', 'pg46.txt', 'pg1080.txt', 'pg2000.txt', 'pg41070.txt', 'pg1259.txt', 'pg2542.txt', 'pg2591.txt', 'pg2641.txt', 'pg45.txt', 'pg120.txt', 'pg50038.txt', 'pg61419.txt', 'pg5200.txt', 'pg4085.txt', 'pg2701.txt', 'pg55.txt', 'pg2600.txt', 'pg30254.txt', 'pg6593.txt', 'pg100.txt', 'pg45848.txt', 'pg44388.txt', 'pg52882.txt', 'pg29728.txt', 'pg205.txt', 'pg37106.txt', 'pg8800.txt', 'pg6761.txt', 'pg600.txt', 'pg44837.txt', 'pg41287.txt', 'pg10676.txt', 'pg25344.txt', 'pg67098.txt', 'pg42933.txt', 'pg394.txt', 'pg408.txt', 'pg74.txt', 'pg1260.txt', 'pg47312.txt', 'pg2554.txt', 'pg996.txt', 'pg244.txt', 'pg64317.txt', 'pg844.txt', 'pg5197.txt', 'pg7370.txt', 'pg514.txt', 'pg62119.txt', 'pg45540.txt', 'pg4300.txt', 'pg1661.txt', 'pg59469.txt'}\n",
      "Palabra: org\n",
      "Documentos: {'pg59468.txt', 'pg1952.txt', 'pg16.txt', 'pg2160.txt', 'pg3207.txt', 'pg768.txt', 'pg16389.txt', 'pg1998.txt', 'pg11.txt', 'pg1342.txt', 'pg174.txt', 'pg26073.txt', 'pg12582.txt', 'pg73444.txt', 'pg73448.txt', 'pg1232.txt', 'pg67979.txt', 'pg52281.txt', 'pg1184.txt', 'pg21012.txt', 'pg18893.txt', 'pg1727.txt', 'pg2814.txt', 'pg145.txt', 'pg1513.txt', 'pg6130.txt', 'pg28054.txt', 'pg84.txt', 'pg10907.txt', 'pg345.txt', 'pg21700.txt', 'pg98.txt', 'pg73447.txt', 'pg41445.txt', 'pg35899.txt', 'pg1400.txt', 'pg73442.txt', 'pg76.txt', 'pg2852.txt', 'pg48191.txt', 'pg43.txt', 'pg219.txt', 'pg27827.txt', 'pg47629.txt', 'pg20228.txt', 'pg46.txt', 'pg1080.txt', 'pg2000.txt', 'pg41070.txt', 'pg1259.txt', 'pg2542.txt', 'pg2591.txt', 'pg2641.txt', 'pg45.txt', 'pg120.txt', 'pg50038.txt', 'pg61419.txt', 'pg5200.txt', 'pg4085.txt', 'pg2701.txt', 'pg55.txt', 'pg2600.txt', 'pg30254.txt', 'pg6593.txt', 'pg100.txt', 'pg45848.txt', 'pg44388.txt', 'pg52882.txt', 'pg29728.txt', 'pg205.txt', 'pg37106.txt', 'pg8800.txt', 'pg6761.txt', 'pg600.txt', 'pg44837.txt', 'pg41287.txt', 'pg10676.txt', 'pg25344.txt', 'pg67098.txt', 'pg42933.txt', 'pg394.txt', 'pg408.txt', 'pg74.txt', 'pg1260.txt', 'pg47312.txt', 'pg2554.txt', 'pg996.txt', 'pg244.txt', 'pg64317.txt', 'pg844.txt', 'pg5197.txt', 'pg7370.txt', 'pg514.txt', 'pg62119.txt', 'pg45540.txt', 'pg4300.txt', 'pg1661.txt', 'pg59469.txt'}\n",
      "Palabra: if\n",
      "Documentos: {'pg59468.txt', 'pg1952.txt', 'pg16.txt', 'pg2160.txt', 'pg3207.txt', 'pg768.txt', 'pg16389.txt', 'pg1998.txt', 'pg11.txt', 'pg1342.txt', 'pg174.txt', 'pg26073.txt', 'pg12582.txt', 'pg73444.txt', 'pg73448.txt', 'pg1232.txt', 'pg67979.txt', 'pg52281.txt', 'pg1184.txt', 'pg21012.txt', 'pg18893.txt', 'pg1727.txt', 'pg2814.txt', 'pg145.txt', 'pg1513.txt', 'pg6130.txt', 'pg28054.txt', 'pg84.txt', 'pg10907.txt', 'pg345.txt', 'pg21700.txt', 'pg98.txt', 'pg73447.txt', 'pg41445.txt', 'pg35899.txt', 'pg1400.txt', 'pg73442.txt', 'pg76.txt', 'pg2852.txt', 'pg48191.txt', 'pg43.txt', 'pg219.txt', 'pg27827.txt', 'pg47629.txt', 'pg20228.txt', 'pg46.txt', 'pg1080.txt', 'pg2000.txt', 'pg41070.txt', 'pg1259.txt', 'pg2542.txt', 'pg2591.txt', 'pg2641.txt', 'pg45.txt', 'pg120.txt', 'pg50038.txt', 'pg61419.txt', 'pg5200.txt', 'pg4085.txt', 'pg2701.txt', 'pg55.txt', 'pg2600.txt', 'pg30254.txt', 'pg6593.txt', 'pg100.txt', 'pg45848.txt', 'pg44388.txt', 'pg52882.txt', 'pg29728.txt', 'pg205.txt', 'pg37106.txt', 'pg8800.txt', 'pg6761.txt', 'pg600.txt', 'pg44837.txt', 'pg41287.txt', 'pg10676.txt', 'pg25344.txt', 'pg67098.txt', 'pg42933.txt', 'pg394.txt', 'pg408.txt', 'pg74.txt', 'pg1260.txt', 'pg47312.txt', 'pg2554.txt', 'pg996.txt', 'pg244.txt', 'pg64317.txt', 'pg844.txt', 'pg5197.txt', 'pg7370.txt', 'pg514.txt', 'pg62119.txt', 'pg45540.txt', 'pg4300.txt', 'pg1661.txt', 'pg59469.txt'}\n",
      "Palabra: are\n",
      "Documentos: {'pg59468.txt', 'pg1952.txt', 'pg16.txt', 'pg2160.txt', 'pg3207.txt', 'pg768.txt', 'pg16389.txt', 'pg1998.txt', 'pg11.txt', 'pg1342.txt', 'pg174.txt', 'pg26073.txt', 'pg12582.txt', 'pg73444.txt', 'pg73448.txt', 'pg1232.txt', 'pg67979.txt', 'pg52281.txt', 'pg1184.txt', 'pg21012.txt', 'pg18893.txt', 'pg1727.txt', 'pg2814.txt', 'pg145.txt', 'pg1513.txt', 'pg6130.txt', 'pg28054.txt', 'pg84.txt', 'pg10907.txt', 'pg345.txt', 'pg21700.txt', 'pg98.txt', 'pg73447.txt', 'pg41445.txt', 'pg35899.txt', 'pg1400.txt', 'pg73442.txt', 'pg76.txt', 'pg2852.txt', 'pg48191.txt', 'pg43.txt', 'pg219.txt', 'pg27827.txt', 'pg47629.txt', 'pg20228.txt', 'pg46.txt', 'pg1080.txt', 'pg2000.txt', 'pg41070.txt', 'pg1259.txt', 'pg2542.txt', 'pg2591.txt', 'pg2641.txt', 'pg45.txt', 'pg120.txt', 'pg50038.txt', 'pg61419.txt', 'pg5200.txt', 'pg4085.txt', 'pg2701.txt', 'pg55.txt', 'pg2600.txt', 'pg30254.txt', 'pg6593.txt', 'pg100.txt', 'pg45848.txt', 'pg44388.txt', 'pg52882.txt', 'pg29728.txt', 'pg205.txt', 'pg37106.txt', 'pg8800.txt', 'pg6761.txt', 'pg600.txt', 'pg44837.txt', 'pg41287.txt', 'pg10676.txt', 'pg25344.txt', 'pg67098.txt', 'pg42933.txt', 'pg394.txt', 'pg408.txt', 'pg74.txt', 'pg1260.txt', 'pg47312.txt', 'pg2554.txt', 'pg996.txt', 'pg244.txt', 'pg64317.txt', 'pg844.txt', 'pg5197.txt', 'pg7370.txt', 'pg514.txt', 'pg62119.txt', 'pg45540.txt', 'pg4300.txt', 'pg1661.txt', 'pg59469.txt'}\n",
      "Palabra: not\n",
      "Documentos: {'pg59468.txt', 'pg1952.txt', 'pg16.txt', 'pg2160.txt', 'pg3207.txt', 'pg768.txt', 'pg16389.txt', 'pg1998.txt', 'pg11.txt', 'pg1342.txt', 'pg174.txt', 'pg26073.txt', 'pg12582.txt', 'pg73444.txt', 'pg73448.txt', 'pg1232.txt', 'pg67979.txt', 'pg52281.txt', 'pg1184.txt', 'pg21012.txt', 'pg18893.txt', 'pg1727.txt', 'pg2814.txt', 'pg145.txt', 'pg1513.txt', 'pg6130.txt', 'pg28054.txt', 'pg84.txt', 'pg10907.txt', 'pg345.txt', 'pg21700.txt', 'pg98.txt', 'pg73447.txt', 'pg41445.txt', 'pg35899.txt', 'pg1400.txt', 'pg73442.txt', 'pg76.txt', 'pg2852.txt', 'pg48191.txt', 'pg43.txt', 'pg219.txt', 'pg27827.txt', 'pg47629.txt', 'pg20228.txt', 'pg46.txt', 'pg1080.txt', 'pg2000.txt', 'pg41070.txt', 'pg1259.txt', 'pg2542.txt', 'pg2591.txt', 'pg2641.txt', 'pg45.txt', 'pg120.txt', 'pg50038.txt', 'pg61419.txt', 'pg5200.txt', 'pg4085.txt', 'pg2701.txt', 'pg55.txt', 'pg2600.txt', 'pg30254.txt', 'pg6593.txt', 'pg100.txt', 'pg45848.txt', 'pg44388.txt', 'pg52882.txt', 'pg29728.txt', 'pg205.txt', 'pg37106.txt', 'pg8800.txt', 'pg6761.txt', 'pg600.txt', 'pg44837.txt', 'pg41287.txt', 'pg10676.txt', 'pg25344.txt', 'pg67098.txt', 'pg42933.txt', 'pg394.txt', 'pg408.txt', 'pg74.txt', 'pg1260.txt', 'pg47312.txt', 'pg2554.txt', 'pg996.txt', 'pg244.txt', 'pg64317.txt', 'pg844.txt', 'pg5197.txt', 'pg7370.txt', 'pg514.txt', 'pg62119.txt', 'pg45540.txt', 'pg4300.txt', 'pg1661.txt', 'pg59469.txt'}\n",
      "Palabra: located\n",
      "Documentos: {'pg59468.txt', 'pg1952.txt', 'pg16.txt', 'pg2160.txt', 'pg3207.txt', 'pg768.txt', 'pg16389.txt', 'pg1998.txt', 'pg11.txt', 'pg1342.txt', 'pg174.txt', 'pg26073.txt', 'pg12582.txt', 'pg73444.txt', 'pg73448.txt', 'pg1232.txt', 'pg67979.txt', 'pg52281.txt', 'pg1184.txt', 'pg21012.txt', 'pg18893.txt', 'pg1727.txt', 'pg2814.txt', 'pg145.txt', 'pg1513.txt', 'pg6130.txt', 'pg28054.txt', 'pg84.txt', 'pg10907.txt', 'pg345.txt', 'pg21700.txt', 'pg98.txt', 'pg73447.txt', 'pg41445.txt', 'pg35899.txt', 'pg1400.txt', 'pg73442.txt', 'pg76.txt', 'pg2852.txt', 'pg48191.txt', 'pg43.txt', 'pg219.txt', 'pg27827.txt', 'pg47629.txt', 'pg20228.txt', 'pg46.txt', 'pg1080.txt', 'pg2000.txt', 'pg41070.txt', 'pg1259.txt', 'pg2542.txt', 'pg2591.txt', 'pg2641.txt', 'pg45.txt', 'pg120.txt', 'pg50038.txt', 'pg61419.txt', 'pg5200.txt', 'pg4085.txt', 'pg2701.txt', 'pg55.txt', 'pg2600.txt', 'pg30254.txt', 'pg6593.txt', 'pg100.txt', 'pg45848.txt', 'pg44388.txt', 'pg52882.txt', 'pg29728.txt', 'pg205.txt', 'pg37106.txt', 'pg8800.txt', 'pg6761.txt', 'pg600.txt', 'pg44837.txt', 'pg41287.txt', 'pg10676.txt', 'pg25344.txt', 'pg67098.txt', 'pg42933.txt', 'pg394.txt', 'pg408.txt', 'pg74.txt', 'pg1260.txt', 'pg47312.txt', 'pg2554.txt', 'pg996.txt', 'pg244.txt', 'pg64317.txt', 'pg844.txt', 'pg5197.txt', 'pg7370.txt', 'pg514.txt', 'pg62119.txt', 'pg45540.txt', 'pg4300.txt', 'pg1661.txt', 'pg59469.txt'}\n",
      "Palabra: will\n",
      "Documentos: {'pg59468.txt', 'pg1952.txt', 'pg16.txt', 'pg2160.txt', 'pg3207.txt', 'pg768.txt', 'pg16389.txt', 'pg1998.txt', 'pg11.txt', 'pg1342.txt', 'pg174.txt', 'pg26073.txt', 'pg12582.txt', 'pg73444.txt', 'pg73448.txt', 'pg1232.txt', 'pg67979.txt', 'pg52281.txt', 'pg1184.txt', 'pg21012.txt', 'pg18893.txt', 'pg1727.txt', 'pg2814.txt', 'pg145.txt', 'pg1513.txt', 'pg6130.txt', 'pg28054.txt', 'pg84.txt', 'pg10907.txt', 'pg345.txt', 'pg21700.txt', 'pg98.txt', 'pg73447.txt', 'pg41445.txt', 'pg35899.txt', 'pg1400.txt', 'pg73442.txt', 'pg76.txt', 'pg2852.txt', 'pg48191.txt', 'pg43.txt', 'pg219.txt', 'pg27827.txt', 'pg47629.txt', 'pg20228.txt', 'pg46.txt', 'pg1080.txt', 'pg2000.txt', 'pg41070.txt', 'pg1259.txt', 'pg2542.txt', 'pg2591.txt', 'pg2641.txt', 'pg45.txt', 'pg120.txt', 'pg50038.txt', 'pg61419.txt', 'pg5200.txt', 'pg4085.txt', 'pg2701.txt', 'pg55.txt', 'pg2600.txt', 'pg30254.txt', 'pg6593.txt', 'pg100.txt', 'pg45848.txt', 'pg44388.txt', 'pg52882.txt', 'pg29728.txt', 'pg205.txt', 'pg37106.txt', 'pg8800.txt', 'pg6761.txt', 'pg600.txt', 'pg44837.txt', 'pg41287.txt', 'pg10676.txt', 'pg25344.txt', 'pg67098.txt', 'pg42933.txt', 'pg394.txt', 'pg408.txt', 'pg74.txt', 'pg1260.txt', 'pg47312.txt', 'pg2554.txt', 'pg996.txt', 'pg244.txt', 'pg64317.txt', 'pg844.txt', 'pg5197.txt', 'pg7370.txt', 'pg514.txt', 'pg62119.txt', 'pg45540.txt', 'pg4300.txt', 'pg1661.txt', 'pg59469.txt'}\n"
     ]
    }
   ],
   "source": [
    "import re\r\n",
    "\r\n",
    "# Crea un diccionario para almacenar el índice invertido\r\n",
    "inverted_index = {}\r\n",
    "\r\n",
    "# Itera sobre cada documento en el diccionario\r\n",
    "for doc_id, content in documents.items():\r\n",
    "    # Encuentra todas las palabras en el contenido del documento\r\n",
    "    words = re.findall(r'\\w+', content)\r\n",
    "    # Agrega las palabras al índice invertido\r\n",
    "    for word in words:\r\n",
    "        if word not in inverted_index:\r\n",
    "            inverted_index[word] = set()\r\n",
    "        inverted_index[word].add(doc_id)\r\n",
    "\r\n",
    "# Muestra una muestra del índice invertido\r\n",
    "for word, docs in list(inverted_index.items())[:50]:  # Muestra las primeras 50 entradas\r\n",
    "    print(f'Palabra: {word}\\nDocumentos: {docs}')\r\n"
   ]
  },
  {
   "cell_type": "markdown",
   "id": "f8a20a24-52d1-4aa8-b7ce-454e1dc8f5c5",
   "metadata": {},
   "source": [
    "## Step 3: Query Processing\r\n",
    "Parse the Query: Implement a function to parse the input query to identify the terms and operators.\r\n",
    "Search Documents: Based on the parsed query, implement the logic to retrieve and rank the documents according to the Boolean expressions."
   ]
  },
  {
   "cell_type": "markdown",
   "id": "10473f0e-4aaa-40d4-8567-44a9a600c59b",
   "metadata": {},
   "source": [
    "### Sección 1: Definición de la Función de Procesamiento de Consultas\n",
    "En este paso, implementamos una función para procesar consultas de búsqueda en los documentos utilizando el índice invertido creado en el paso anterior. Aquí está la explicación de la función `process_query`:\r\n"
   ]
  },
  {
   "cell_type": "code",
   "execution_count": 3,
   "id": "cb0c50ad-e289-47fc-9976-e47e26d09c53",
   "metadata": {},
   "outputs": [],
   "source": [
    "def process_query(query, inverted_index):\n",
    "    return inverted_index.get(query, set())\n"
   ]
  },
  {
   "cell_type": "markdown",
   "id": "33952c53-8612-43e2-9722-9cc568616cf2",
   "metadata": {},
   "source": [
    "### Sección 2: Prueba del Procesamiento de Consultas\n",
    "En esta parte, realizamos una prueba del proceso de consulta utilizando la función `process_query` que implementamos en el paso anterior. Aquí está la explicación del código:\r\n",
    "\n"
   ]
  },
  {
   "cell_type": "code",
   "execution_count": 4,
   "id": "6ad9df5c-0a9f-41d2-bacb-f642893e2f60",
   "metadata": {},
   "outputs": [
    {
     "name": "stdout",
     "output_type": "stream",
     "text": [
      "Resultados para la consulta 'books': {'pg59468.txt', 'pg16.txt', 'pg2160.txt', 'pg3207.txt', 'pg768.txt', 'pg16389.txt', 'pg1998.txt', 'pg11.txt', 'pg1342.txt', 'pg174.txt', 'pg26073.txt', 'pg12582.txt', 'pg73444.txt', 'pg73448.txt', 'pg1232.txt', 'pg67979.txt', 'pg1184.txt', 'pg21012.txt', 'pg18893.txt', 'pg1727.txt', 'pg2814.txt', 'pg145.txt', 'pg1513.txt', 'pg6130.txt', 'pg28054.txt', 'pg84.txt', 'pg10907.txt', 'pg345.txt', 'pg21700.txt', 'pg98.txt', 'pg73447.txt', 'pg41445.txt', 'pg35899.txt', 'pg1400.txt', 'pg76.txt', 'pg2852.txt', 'pg48191.txt', 'pg43.txt', 'pg219.txt', 'pg27827.txt', 'pg46.txt', 'pg41070.txt', 'pg1259.txt', 'pg2542.txt', 'pg2641.txt', 'pg45.txt', 'pg120.txt', 'pg50038.txt', 'pg61419.txt', 'pg4085.txt', 'pg2701.txt', 'pg55.txt', 'pg2600.txt', 'pg30254.txt', 'pg6593.txt', 'pg100.txt', 'pg45848.txt', 'pg44388.txt', 'pg52882.txt', 'pg29728.txt', 'pg205.txt', 'pg37106.txt', 'pg6761.txt', 'pg600.txt', 'pg44837.txt', 'pg10676.txt', 'pg25344.txt', 'pg67098.txt', 'pg42933.txt', 'pg394.txt', 'pg408.txt', 'pg74.txt', 'pg1260.txt', 'pg47312.txt', 'pg2554.txt', 'pg996.txt', 'pg244.txt', 'pg64317.txt', 'pg844.txt', 'pg5197.txt', 'pg7370.txt', 'pg514.txt', 'pg62119.txt', 'pg45540.txt', 'pg4300.txt', 'pg1661.txt', 'pg59469.txt'}\n"
     ]
    }
   ],
   "source": [
    "# Prueba del proceso de consulta\n",
    "\n",
    "# Definimos una consulta de búsqueda en la variable 'query'. En este caso, la consulta es \"question\".\n",
    "# Esta consulta puede ser modificada para buscar diferentes términos o frases en los documentos.\n",
    "query = \"books\"\n",
    "\n",
    "# Llamamos a la función 'process_query' pasando la consulta y el índice invertido 'inverted_index' como argumentos.\n",
    "# La función procesará la consulta y devolverá los resultados, es decir, los documentos que coinciden con la consulta.\n",
    "results = process_query(query, inverted_index)\n",
    "\n",
    "# Imprimimos los resultados de la consulta utilizando 'print()'.\n",
    "# La f-string se utiliza para incluir la consulta en el mensaje de salida.\n",
    "# Esto mostrará los documentos que coinciden con la consulta 'question'.\n",
    "print(f\"Resultados para la consulta '{query}': {results}\")\n"
   ]
  },
  {
   "cell_type": "markdown",
   "id": "0f55fb6f-38b9-48f5-8ef1-5a427f17bf10",
   "metadata": {},
   "source": [
    "## Step 4: Displaying Results\r\n",
    "Output the Results: Display the documents that match the query criteria. Include functionalities to handle queries that result in no matching documents\n",
    "\n",
    "En esta parte del código, realizamos una prueba con diferentes consultas booleanas utilizando la función `process_query` que implementamos en el paso anterior.\r\n",
    "\r\n",
    "**Explicación:**\r\n",
    "\r\n",
    "- Solicitamos al usuario que ingrese una consulta booleana utilizando la función `input()`. La consulta ingresada se almacena en la variable `query`.\r\n",
    "- Llamamos a la función `process_query` pasando la consulta ingresada por el usuario y el índice invertido (`inverted_index`) como argumentos. Esta función procesará la consulta y devolverá los resultados.\r\n",
    "- Verificamos si hay resultados en la variable `results` utilizando una estructura condicional `if`.\r\n",
    "  - Si hay resultados, imprimimos un mensaje indicando los documentos que coinciden con la consulta y luego iteramos sobre los identificadores de documentos en los resultados para imprimir cada identificador de documento.\r\n",
    "  - Si no hay resultados, imprimimos un mensaje indicando que no se encontraron documentos que coincidan con la consulta.\r\n",
    "\r\n",
    "Esta parte del código permite al usuario realizar consultas booleanas sobre los documentos y muestra los documentos que coinciden con la consulta. Puedes probar diferentes consultas para explorar los documentos relacionados.."
   ]
  },
  {
   "cell_type": "code",
   "execution_count": 5,
   "id": "78e1b086-f47b-40e2-82c3-d376257bc163",
   "metadata": {},
   "outputs": [
    {
     "name": "stdin",
     "output_type": "stream",
     "text": [
      "Por favor, ingrese una consulta booleana (por ejemplo, 'libros'):  libros\n"
     ]
    },
    {
     "name": "stdout",
     "output_type": "stream",
     "text": [
      "Los siguientes documentos coinciden con la consulta 'libros':\n",
      "pg45848.txt\n",
      "pg2000.txt\n",
      "pg29728.txt\n",
      "pg20228.txt\n"
     ]
    }
   ],
   "source": [
    "# Prueba con diferentes consultas\n",
    "query = input(\"Por favor, ingrese una consulta booleana (por ejemplo, 'libros'): \")  # Solicita al usuario que ingrese una consulta booleana\n",
    "results = process_query(query, inverted_index)  # Procesa la consulta utilizando la función process_query y el índice invertido\n",
    "\n",
    "if results:  # Verifica si hay resultados\n",
    "    print(f\"Los siguientes documentos coinciden con la consulta '{query}':\")  # Imprime un mensaje indicando los documentos que coinciden con la consulta\n",
    "    for doc_id in results:  # Itera sobre los identificadores de documentos en los resultados\n",
    "        print(doc_id)  # Imprime el identificador de cada documento que coincide con la consulta\n",
    "else:  # Si no hay resultados\n",
    "    print(\"Lo siento, no se encontraron documentos que coincidan con la consulta.\")  # Imprime un mensaje indicando que no se encontraron documentos que coincidan con la consulta\n"
   ]
  },
  {
   "cell_type": "code",
   "execution_count": null,
   "id": "d032e1b3",
   "metadata": {},
   "outputs": [],
   "source": []
  },
  {
   "cell_type": "code",
   "execution_count": null,
   "id": "e43e9736",
   "metadata": {},
   "outputs": [],
   "source": []
  },
  {
   "cell_type": "code",
   "execution_count": null,
   "id": "82f82468",
   "metadata": {},
   "outputs": [],
   "source": []
  },
  {
   "cell_type": "code",
   "execution_count": null,
   "id": "e1ec045c",
   "metadata": {},
   "outputs": [],
   "source": []
  },
  {
   "cell_type": "code",
   "execution_count": null,
   "id": "58bd086a",
   "metadata": {},
   "outputs": [],
   "source": []
  },
  {
   "cell_type": "code",
   "execution_count": null,
   "id": "a1a90811",
   "metadata": {},
   "outputs": [],
   "source": []
  }
 ],
 "metadata": {
  "kernelspec": {
   "display_name": "Python 3 (ipykernel)",
   "language": "python",
   "name": "python3"
  },
  "language_info": {
   "codemirror_mode": {
    "name": "ipython",
    "version": 3
   },
   "file_extension": ".py",
   "mimetype": "text/x-python",
   "name": "python",
   "nbconvert_exporter": "python",
   "pygments_lexer": "ipython3",
   "version": "3.11.7"
  }
 },
 "nbformat": 4,
 "nbformat_minor": 5
}
