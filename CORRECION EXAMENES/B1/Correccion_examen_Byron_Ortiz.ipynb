{
 "cells": [
  {
   "cell_type": "markdown",
   "id": "fa630661cfe7ea84",
   "metadata": {},
   "source": [
    "## Corrección del Examen de 1er bimestre"
   ]
  },
  {
   "cell_type": "markdown",
   "id": "e27cce16d2bfb3cf",
   "metadata": {},
   "source": [
    "Considere el siguiente corpus:"
   ]
  },
  {
   "cell_type": "code",
   "execution_count": 1,
   "id": "57a28e7cef70ec31",
   "metadata": {
    "ExecuteTime": {
     "end_time": "2024-06-13T15:39:32.524191Z",
     "start_time": "2024-06-13T15:39:32.506204Z"
    }
   },
   "outputs": [],
   "source": [
    "doc1 = \"Las habilidades blandas son fundamentales para el éxito en el campo de la informática. Estas habilidades fundamentales incluyen la comunicación efectiva, la capacidad de trabajar en equipo y la gestión del tiempo.\"\n",
    "doc2 = \"El desarrollo de habilidades blandas es fundamental para los informáticos, ya que estas competencias facilitan la interacción y colaboración en entornos de trabajo dinámicos.\"\n",
    "doc3 = \"En la informática, la resolución de problemas es una habilidad técnica esencial, pero combinarla con habilidades blandas como la creatividad y el pensamiento crítico puede llevar a soluciones innovadoras.\"\n",
    "doc4 = \"La empatía, por ejemplo, es una habilidad blanda que permite a los profesionales de la informática entender y anticipar las necesidades fundamentales de los usuarios, mejorando así la calidad de los productos y técnicas desarrolladas.\"\n",
    "doc5 = \"La inteligencia emocional es una habilidad blanda vital para los informáticos. Permite gestionar mejor las emociones propias y las de los demás, facilitando así un entorno de trabajo más armonioso y productivo.\"\n",
    "\n",
    "# wset es el conjunto de palabras en el corpus\n",
    "wset = set()\n",
    "# docs es el arreglo de documentos en el corpus\n",
    "docs = [doc1, doc2, doc3, doc4, doc5]"
   ]
  },
  {
   "cell_type": "markdown",
   "id": "2719675b6ca2ed47",
   "metadata": {},
   "source": [
    "#### 0. Preprocesamiento del corpus"
   ]
  },
  {
   "cell_type": "markdown",
   "id": "f9347670f84cb3d3",
   "metadata": {},
   "source": [
    "Considere las siguientes palabras vacías, o stop words:\n",
    "{a, así, como, con, de, del, el, en, es, estas, la, las, los, más, para, pero, por, que, son, un, una, y, ya}"
   ]
  },
  {
   "cell_type": "code",
   "execution_count": 2,
   "id": "6d34f7d0baf64b9d",
   "metadata": {
    "ExecuteTime": {
     "end_time": "2024-06-13T15:39:43.499162Z",
     "start_time": "2024-06-13T15:39:43.480261Z"
    }
   },
   "outputs": [
    {
     "name": "stdout",
     "output_type": "stream",
     "text": [
      "[('habilidades', 4), ('blandas', 3), ('fundamentales', 3), ('informática', 3), ('habilidad', 3), ('informáticos', 2), ('trabajo', 2), ('blanda', 2), ('permite', 2), ('éxito', 1), ('campo', 1), ('incluyen', 1), ('comunicación', 1), ('efectiva', 1), ('capacidad', 1), ('trabajar', 1), ('equipo', 1), ('gestión', 1), ('tiempo', 1), ('desarrollo', 1), ('fundamental', 1), ('competencias', 1), ('facilitan', 1), ('interacción', 1), ('colaboración', 1), ('entornos', 1), ('dinámicos', 1), ('resolución', 1), ('problemas', 1), ('técnica', 1), ('esencial', 1), ('combinarla', 1), ('creatividad', 1), ('pensamiento', 1), ('crítico', 1), ('puede', 1), ('llevar', 1), ('soluciones', 1), ('innovadoras', 1), ('empatía', 1), ('ejemplo', 1), ('profesionales', 1), ('entender', 1), ('anticipar', 1), ('necesidades', 1), ('usuarios', 1), ('mejorando', 1), ('calidad', 1), ('productos', 1), ('técnicas', 1), ('desarrolladas', 1), ('inteligencia', 1), ('emocional', 1), ('vital', 1), ('gestionar', 1), ('mejor', 1), ('emociones', 1), ('propias', 1), ('demás', 1), ('facilitando', 1), ('entorno', 1), ('armonioso', 1), ('productivo', 1)]\n"
     ]
    }
   ],
   "source": [
    "import string\n",
    "from collections import defaultdict\n",
    "\n",
    "stopw = ['la','de','y','los','las','el','en','es','para','una','estas','a','así','son','del','ya','que','pero','con','como','por','un','más']\n",
    "# stopw = []\n",
    "\n",
    "word_counts = defaultdict(int)\n",
    "for doc in docs:\n",
    "    for word in doc.lower().translate(str.maketrans('', '', string.punctuation)).split(\" \"):\n",
    "        if word not in stopw:\n",
    "            wset.add(word)\n",
    "            word_counts[word.lower()] += 1\n",
    "\n",
    "# sorted_word_count es un arreglo de términos con su respectivo conteo\n",
    "# está ordenado del término más frecuente al menos frecuente\n",
    "sorted_word_count = sorted(word_counts.items(), key=lambda item: item[1], reverse=True)\n",
    "print(sorted_word_count)"
   ]
  },
  {
   "cell_type": "code",
   "execution_count": 3,
   "id": "94217c75deee9a6a",
   "metadata": {
    "ExecuteTime": {
     "end_time": "2024-06-13T15:39:46.924803Z",
     "start_time": "2024-06-13T15:39:44.042794Z"
    }
   },
   "outputs": [
    {
     "name": "stdout",
     "output_type": "stream",
     "text": [
      "[('habil', 7), ('bland', 5), ('informat', 5), ('fundamental', 4), ('trabaj', 3), ('gestion', 2), ('desarroll', 2), ('facilit', 2), ('entorn', 2), ('tecnic', 2), ('permit', 2), ('mejor', 2), ('product', 2), ('exit', 1), ('camp', 1), ('inclu', 1), ('comun', 1), ('efect', 1), ('capac', 1), ('equip', 1), ('tiemp', 1), ('competent', 1), ('interaccion', 1), ('colabor', 1), ('dinam', 1), ('resolu', 1), ('problem', 1), ('esencial', 1), ('per', 1), ('combin', 1), ('com', 1), ('creativ', 1), ('pensamient', 1), ('critic', 1), ('pued', 1), ('llev', 1), ('solucion', 1), ('innov', 1), ('empat', 1), ('ejempl', 1), ('profesional', 1), ('entend', 1), ('anticip', 1), ('neces', 1), ('usuari', 1), ('calid', 1), ('inteligent', 1), ('emocional', 1), ('vital', 1), ('emocion', 1), ('propi', 1), ('demas', 1), ('mas', 1), ('armoni', 1)]\n"
     ]
    }
   ],
   "source": [
    "# se repite el procesamiento anterior de conteo de palabras, integrando la actividad de Stemming\n",
    "from nltk.stem import SnowballStemmer\n",
    "\n",
    "stemmer = SnowballStemmer('spanish')\n",
    "stopw = ['la','de','y','los','lo','las','el','en','es','para','una','estas', 'esta','a','así','son','del','ya','que','pero','con','como','por','un','más','má','demá', 'par','asi']\n",
    "# stopw = []\n",
    "\n",
    "stem_docs = []\n",
    "for doc in docs:\n",
    "    sdoc = []\n",
    "    for word in doc.lower().translate(str.maketrans('', '', string.punctuation)).split(\" \"):\n",
    "        if word not in stopw:\n",
    "            sdoc.append(stemmer.stem(word))\n",
    "    stem_docs.append(sdoc)\n",
    "\n",
    "word_counts = defaultdict(int)\n",
    "for doc in docs:\n",
    "    for word in doc.lower().translate(str.maketrans('', '', string.punctuation)).split(\" \"):\n",
    "        word = stemmer.stem(word)\n",
    "        if word not in stopw:\n",
    "            wset.add(word)\n",
    "            word_counts[word.lower()] += 1\n",
    "            \n",
    "sorted_word_count = sorted(word_counts.items(), key=lambda item: item[1], reverse=True)\n",
    "print(sorted_word_count)"
   ]
  },
  {
   "cell_type": "markdown",
   "id": "d40128bb32061442",
   "metadata": {},
   "source": [
    "#### 1. Determine un espacio vectorial para la representación de documentos con 10 dimensiones. Considere a las palabras a partir de su raíz, para simplificar su representación computacional."
   ]
  },
  {
   "cell_type": "code",
   "execution_count": 4,
   "id": "fc43e15eb478008d",
   "metadata": {
    "ExecuteTime": {
     "end_time": "2024-06-13T15:41:17.701334Z",
     "start_time": "2024-06-13T15:41:17.689356Z"
    }
   },
   "outputs": [
    {
     "name": "stdout",
     "output_type": "stream",
     "text": [
      "[('informat', 5), ('fundamental', 4), ('trabaj', 3), ('gestion', 2), ('desarroll', 2), ('facilit', 2), ('entorn', 2), ('tecnic', 2), ('permit', 2), ('solucion', 1)]\n"
     ]
    }
   ],
   "source": [
    "ev = sorted_word_count[2:11]\n",
    "ev.append(sorted_word_count[36])\n",
    "print(ev)"
   ]
  },
  {
   "cell_type": "markdown",
   "id": "8290b51e1ceba387",
   "metadata": {},
   "source": [
    "#### 2. Construya una matriz binaria de incidencias (presencia/ausencia)"
   ]
  },
  {
   "cell_type": "code",
   "execution_count": 5,
   "id": "d7d2c8ff13edcdea",
   "metadata": {
    "ExecuteTime": {
     "end_time": "2024-06-13T15:41:56.979201Z",
     "start_time": "2024-06-13T15:41:56.969032Z"
    }
   },
   "outputs": [
    {
     "name": "stdout",
     "output_type": "stream",
     "text": [
      "[[1, 1, 1, 1, 0, 0, 0, 0, 0, 0], [1, 1, 1, 0, 1, 1, 1, 0, 0, 0], [1, 0, 0, 0, 0, 0, 0, 1, 0, 1], [1, 1, 0, 0, 1, 0, 0, 1, 1, 0], [1, 0, 1, 1, 0, 1, 1, 0, 1, 0]]\n"
     ]
    }
   ],
   "source": [
    "# ev_docs es un arreglo con la representación binaria (presencia/ausencia) de los documentos en el espacio vectorial\n",
    "ev_docs = []\n",
    "for doc in stem_docs:\n",
    "    ev_doc = []\n",
    "    for dim in ev:\n",
    "        if dim[0] in doc:\n",
    "            ev_doc.append(1)\n",
    "        else:\n",
    "            ev_doc.append(0)\n",
    "    ev_docs.append(ev_doc)\n",
    "print(ev_docs)"
   ]
  },
  {
   "cell_type": "markdown",
   "id": "df83dcaee57cbd96",
   "metadata": {},
   "source": [
    "#### 3. Utilizando la similitud Jaccard, determine cuáles son los documentos por recuperarse para las siguientes consultas:\n",
    "3.1. “habilidad” AND “blanda” AND “fundamental”\n",
    "\n",
    "3.2. “habilidad” AND “blanda” AND NOT “técnica”\n",
    "\n",
    "3.3. “gestión” OR “solución”"
   ]
  },
  {
   "cell_type": "code",
   "execution_count": 6,
   "id": "de10645116562290",
   "metadata": {
    "ExecuteTime": {
     "end_time": "2024-06-13T15:49:06.379829Z",
     "start_time": "2024-06-13T15:49:06.358561Z"
    }
   },
   "outputs": [],
   "source": [
    "# hablidad AND blanda AND fundamental\n",
    "q1 = [0,1,0,0,0,0,0,0,0,0]\n",
    "# hablidad AND blanda AND NOT técnica\n",
    "q2 = [1,1,1,1,1,1,1,0,1,1]\n",
    "# gestión OR solución\n",
    "q3 = [0,0,0,1,0,0,0,0,0,1]\n",
    "\n",
    "queries = [q1,q2,q3]\n",
    "read_queries = ['hablidad AND blanda AND fundamental', 'hablidad AND blanda AND NOT técnica', 'gestión OR solución']"
   ]
  },
  {
   "cell_type": "markdown",
   "id": "bdb3661f6f1addc2",
   "metadata": {},
   "source": [
    "Similitud Jaccard: $JSim=|Q\\cap D|/|Q\\cup D|$"
   ]
  },
  {
   "cell_type": "code",
   "execution_count": 7,
   "id": "49a1a8bdc6157f5b",
   "metadata": {
    "ExecuteTime": {
     "end_time": "2024-06-13T16:16:35.146806Z",
     "start_time": "2024-06-13T16:16:35.133864Z"
    }
   },
   "outputs": [],
   "source": [
    "def jsim(q,d):\n",
    "    c = 0\n",
    "    for i in range(len(q)):\n",
    "        # contar los elementos iguales a 1 que son comunes entre los dos conjuntos\n",
    "        if q[i] == d[i] and d[i] == 1:\n",
    "            c += 1\n",
    "    f = 0\n",
    "    for i in range(len(q)):\n",
    "        # contar los elementos iguales a 1 en cualquiera de los dos conjuntos\n",
    "        if q[i] == 1 or d[i] == 1:\n",
    "            f += 1\n",
    "    #print('c',c,'f',f)\n",
    "    return c/f"
   ]
  },
  {
   "cell_type": "code",
   "execution_count": 8,
   "id": "a72cf66d1df3ef33",
   "metadata": {
    "ExecuteTime": {
     "end_time": "2024-06-13T16:21:58.532562Z",
     "start_time": "2024-06-13T16:21:58.508319Z"
    }
   },
   "outputs": [
    {
     "name": "stdout",
     "output_type": "stream",
     "text": [
      "-------------------------------------------------------\n",
      "QUERY:  0 hablidad AND blanda AND fundamental\n",
      "doc 0 Jsim 0.25\n",
      "Las habilidades blandas son fundamentales para el éxito en el campo de la informática. Estas habilidades fundamentales incluyen la comunicación efectiva, la capacidad de trabajar en equipo y la gestión del tiempo.\n",
      "doc 1 Jsim 0.16666666666666666\n",
      "El desarrollo de habilidades blandas es fundamental para los informáticos, ya que estas competencias facilitan la interacción y colaboración en entornos de trabajo dinámicos.\n",
      "doc 3 Jsim 0.2\n",
      "La empatía, por ejemplo, es una habilidad blanda que permite a los profesionales de la informática entender y anticipar las necesidades fundamentales de los usuarios, mejorando así la calidad de los productos y técnicas desarrolladas.\n",
      "-------------------------------------------------------\n",
      "QUERY:  1 hablidad AND blanda AND NOT técnica\n",
      "doc 0 Jsim 0.4444444444444444\n",
      "Las habilidades blandas son fundamentales para el éxito en el campo de la informática. Estas habilidades fundamentales incluyen la comunicación efectiva, la capacidad de trabajar en equipo y la gestión del tiempo.\n",
      "doc 1 Jsim 0.6666666666666666\n",
      "El desarrollo de habilidades blandas es fundamental para los informáticos, ya que estas competencias facilitan la interacción y colaboración en entornos de trabajo dinámicos.\n",
      "doc 2 Jsim 0.2\n",
      "En la informática, la resolución de problemas es una habilidad técnica esencial, pero combinarla con habilidades blandas como la creatividad y el pensamiento crítico puede llevar a soluciones innovadoras.\n",
      "doc 3 Jsim 0.4\n",
      "La empatía, por ejemplo, es una habilidad blanda que permite a los profesionales de la informática entender y anticipar las necesidades fundamentales de los usuarios, mejorando así la calidad de los productos y técnicas desarrolladas.\n",
      "doc 4 Jsim 0.6666666666666666\n",
      "La inteligencia emocional es una habilidad blanda vital para los informáticos. Permite gestionar mejor las emociones propias y las de los demás, facilitando así un entorno de trabajo más armonioso y productivo.\n",
      "-------------------------------------------------------\n",
      "QUERY:  2 gestión OR solución\n",
      "doc 0 Jsim 0.2\n",
      "Las habilidades blandas son fundamentales para el éxito en el campo de la informática. Estas habilidades fundamentales incluyen la comunicación efectiva, la capacidad de trabajar en equipo y la gestión del tiempo.\n",
      "doc 2 Jsim 0.25\n",
      "En la informática, la resolución de problemas es una habilidad técnica esencial, pero combinarla con habilidades blandas como la creatividad y el pensamiento crítico puede llevar a soluciones innovadoras.\n",
      "doc 4 Jsim 0.14285714285714285\n",
      "La inteligencia emocional es una habilidad blanda vital para los informáticos. Permite gestionar mejor las emociones propias y las de los demás, facilitando así un entorno de trabajo más armonioso y productivo.\n"
     ]
    }
   ],
   "source": [
    "for i in range(len(queries)):\n",
    "    print('-------------------------------------------------------')\n",
    "    print('QUERY: ',i,read_queries[i])\n",
    "    for j in range(0,len(ev_docs)):\n",
    "        #print(queries[i],ev_docs[j])\n",
    "        jsim_ = jsim(queries[i],ev_docs[j])\n",
    "        if jsim_ > 0:\n",
    "            print('doc',j,'Jsim',jsim_)\n",
    "            print(docs[j])"
   ]
  },
  {
   "cell_type": "markdown",
   "id": "9bb0f4f00050dc6a",
   "metadata": {},
   "source": [
    "#### 4. Con el mismo espacio vectorial del punto 1, construya una matriz de términos y documentos (matriz TF-IDF)."
   ]
  },
  {
   "cell_type": "markdown",
   "id": "24ca205bbea581f5",
   "metadata": {},
   "source": [
    "Frecuencia de término: $TF_{ij}=count(t_i,d_j)/|d_j|$\n",
    "\n",
    "Frecuencia inversa de término: $IDF_{ij} = log(|corpus|/count(d_j,t_i))$"
   ]
  },
  {
   "cell_type": "code",
   "execution_count": 9,
   "id": "dae62d05079b0a1e",
   "metadata": {},
   "outputs": [
    {
     "name": "stdout",
     "output_type": "stream",
     "text": [
      "Matriz TF-IDF:\n",
      "Documento 1:\n",
      "{'es': 0.0, 'trabajo': 0.0, 'empatía,': 0.0, 'desarrolladas.': 0.0, 'de': 0.0, 'equipo': 0.050294934763565634, 'creatividad': 0.0, 'trabajar': 0.050294934763565634, 'entornos': 0.0, 'competencias': 0.0, 'capacidad': 0.050294934763565634, 'blandas': 0.01596330074268721, 'vital': 0.0, 'gestionar': 0.0, 'técnicas': 0.0, 'interacción': 0.0, 'pensamiento': 0.0, 'esencial,': 0.0, 'los': 0.0, 'profesionales': 0.0, 'El': 0.0, 'anticipar': 0.0, 'permite': 0.0, 'entorno': 0.0, 'mejor': 0.0, 'para': 0.01596330074268721, 'llevar': 0.0, 'soluciones': 0.0, 'puede': 0.0, 'técnica': 0.0, 'fundamentales': 0.057268170742134694, 'una': 0.0, 'campo': 0.050294934763565634, 'habilidades': 0.03192660148537442, 'con': 0.0, 'blanda': 0.0, 'emocional': 0.0, 'como': 0.0, 'habilidad': 0.0, 'demás,': 0.0, 'propias': 0.0, 'crítico': 0.0, 'colaboración': 0.0, 'las': 0.0, 'combinarla': 0.0, 'desarrollo': 0.0, 'pero': 0.0, 'que': 0.0, 'facilitando': 0.0, 'informática,': 0.0, 'la': 0.02789294391427622, 'Las': 0.050294934763565634, 'emociones': 0.0, 'más': 0.0, 'resolución': 0.0, 'en': 0.057268170742134694, 'necesidades': 0.0, 'mejorando': 0.0, 'y': 0.0, 'del': 0.050294934763565634, 'fundamental': 0.0, 'entender': 0.0, 'a': 0.0, 'éxito': 0.050294934763565634, 'calidad': 0.0, 'Permite': 0.0, 'La': 0.0, 'productos': 0.0, 'productivo.': 0.0, 'usuarios,': 0.0, 'así': 0.0, 'comunicación': 0.050294934763565634, 'inteligencia': 0.0, 'efectiva,': 0.050294934763565634, 'facilitan': 0.0, 'son': 0.050294934763565634, 'Estas': 0.050294934763565634, 'problemas': 0.0, 'incluyen': 0.050294934763565634, 'ya': 0.0, 'informáticos,': 0.0, 'tiempo.': 0.050294934763565634, 'armonioso': 0.0, 'informática': 0.0, 'dinámicos.': 0.0, 'informáticos.': 0.0, 'informática.': 0.050294934763565634, 'ejemplo,': 0.0, 'estas': 0.0, 'el': 0.057268170742134694, 'En': 0.0, 'un': 0.0, 'innovadoras.': 0.0, 'gestión': 0.050294934763565634, 'por': 0.0}\n",
      "Documento 2:\n",
      "{'es': 0.009297647971425406, 'trabajo': 0.03817878049475646, 'empatía,': 0.0, 'desarrolladas.': 0.0, 'de': 0.0, 'equipo': 0.0, 'creatividad': 0.0, 'trabajar': 0.0, 'entornos': 0.0670599130180875, 'competencias': 0.0670599130180875, 'capacidad': 0.0, 'blandas': 0.021284400990249613, 'vital': 0.0, 'gestionar': 0.0, 'técnicas': 0.0, 'interacción': 0.0670599130180875, 'pensamiento': 0.0, 'esencial,': 0.0, 'los': 0.021284400990249613, 'profesionales': 0.0, 'El': 0.0670599130180875, 'anticipar': 0.0, 'permite': 0.0, 'entorno': 0.0, 'mejor': 0.0, 'para': 0.021284400990249613, 'llevar': 0.0, 'soluciones': 0.0, 'puede': 0.0, 'técnica': 0.0, 'fundamentales': 0.0, 'una': 0.0, 'campo': 0.0, 'habilidades': 0.021284400990249613, 'con': 0.0, 'blanda': 0.0, 'emocional': 0.0, 'como': 0.0, 'habilidad': 0.0, 'demás,': 0.0, 'propias': 0.0, 'crítico': 0.0, 'colaboración': 0.0670599130180875, 'las': 0.0, 'combinarla': 0.0, 'desarrollo': 0.0670599130180875, 'pero': 0.0, 'que': 0.03817878049475646, 'facilitando': 0.0, 'informática,': 0.0, 'la': 0.009297647971425406, 'Las': 0.0, 'emociones': 0.0, 'más': 0.0, 'resolución': 0.0, 'en': 0.03817878049475646, 'necesidades': 0.0, 'mejorando': 0.0, 'y': 0.0, 'del': 0.0, 'fundamental': 0.0670599130180875, 'entender': 0.0, 'a': 0.0, 'éxito': 0.0, 'calidad': 0.0, 'Permite': 0.0, 'La': 0.0, 'productos': 0.0, 'productivo.': 0.0, 'usuarios,': 0.0, 'así': 0.0, 'comunicación': 0.0, 'inteligencia': 0.0, 'efectiva,': 0.0, 'facilitan': 0.0670599130180875, 'son': 0.0, 'Estas': 0.0, 'problemas': 0.0, 'incluyen': 0.0, 'ya': 0.0670599130180875, 'informáticos,': 0.0670599130180875, 'tiempo.': 0.0, 'armonioso': 0.0, 'informática': 0.0, 'dinámicos.': 0.0670599130180875, 'informáticos.': 0.0, 'informática.': 0.0, 'ejemplo,': 0.0, 'estas': 0.0670599130180875, 'el': 0.0, 'En': 0.0, 'un': 0.0, 'innovadoras.': 0.0, 'gestión': 0.0, 'por': 0.0}\n",
      "Documento 3:\n",
      "{'es': 0.007694605217731371, 'trabajo': 0.0, 'empatía,': 0.0, 'desarrolladas.': 0.0, 'de': 0.0, 'equipo': 0.0, 'creatividad': 0.05549785904945173, 'trabajar': 0.0, 'entornos': 0.0, 'competencias': 0.0, 'capacidad': 0.0, 'blandas': 0.017614676681585888, 'vital': 0.0, 'gestionar': 0.0, 'técnicas': 0.0, 'interacción': 0.0, 'pensamiento': 0.05549785904945173, 'esencial,': 0.05549785904945173, 'los': 0.0, 'profesionales': 0.0, 'El': 0.0, 'anticipar': 0.0, 'permite': 0.0, 'entorno': 0.0, 'mejor': 0.0, 'para': 0.0, 'llevar': 0.05549785904945173, 'soluciones': 0.05549785904945173, 'puede': 0.05549785904945173, 'técnica': 0.05549785904945173, 'fundamentales': 0.0, 'una': 0.017614676681585888, 'campo': 0.0, 'habilidades': 0.017614676681585888, 'con': 0.05549785904945173, 'blanda': 0.0, 'emocional': 0.0, 'como': 0.05549785904945173, 'habilidad': 0.017614676681585888, 'demás,': 0.0, 'propias': 0.0, 'crítico': 0.05549785904945173, 'colaboración': 0.0, 'las': 0.0, 'combinarla': 0.05549785904945173, 'desarrollo': 0.0, 'pero': 0.05549785904945173, 'que': 0.0, 'facilitando': 0.0, 'informática,': 0.05549785904945173, 'la': 0.023083815653194114, 'Las': 0.0, 'emociones': 0.0, 'más': 0.0, 'resolución': 0.05549785904945173, 'en': 0.0, 'necesidades': 0.0, 'mejorando': 0.0, 'y': 0.0, 'del': 0.0, 'fundamental': 0.0, 'entender': 0.0, 'a': 0.031596232133591556, 'éxito': 0.0, 'calidad': 0.0, 'Permite': 0.0, 'La': 0.0, 'productos': 0.0, 'productivo.': 0.0, 'usuarios,': 0.0, 'así': 0.0, 'comunicación': 0.0, 'inteligencia': 0.0, 'efectiva,': 0.0, 'facilitan': 0.0, 'son': 0.0, 'Estas': 0.0, 'problemas': 0.05549785904945173, 'incluyen': 0.0, 'ya': 0.0, 'informáticos,': 0.0, 'tiempo.': 0.0, 'armonioso': 0.0, 'informática': 0.0, 'dinámicos.': 0.0, 'informáticos.': 0.0, 'informática.': 0.0, 'ejemplo,': 0.0, 'estas': 0.0, 'el': 0.031596232133591556, 'En': 0.05549785904945173, 'un': 0.0, 'innovadoras.': 0.05549785904945173, 'gestión': 0.0, 'por': 0.0}\n",
      "Documento 4:\n",
      "{'es': 0.00637553003754885, 'trabajo': 0.0, 'empatía,': 0.04598394035526001, 'desarrolladas.': 0.04598394035526001, 'de': 0.0, 'equipo': 0.0, 'creatividad': 0.0, 'trabajar': 0.0, 'entornos': 0.0, 'competencias': 0.0, 'capacidad': 0.0, 'blandas': 0.0, 'vital': 0.0, 'gestionar': 0.0, 'técnicas': 0.04598394035526001, 'interacción': 0.0, 'pensamiento': 0.0, 'esencial,': 0.0, 'los': 0.04378505346565635, 'profesionales': 0.04598394035526001, 'El': 0.0, 'anticipar': 0.04598394035526001, 'permite': 0.04598394035526001, 'entorno': 0.0, 'mejor': 0.0, 'para': 0.0, 'llevar': 0.0, 'soluciones': 0.0, 'puede': 0.0, 'técnica': 0.0, 'fundamentales': 0.02617973519640443, 'una': 0.014595017821885449, 'campo': 0.0, 'habilidades': 0.0, 'con': 0.0, 'blanda': 0.02617973519640443, 'emocional': 0.0, 'como': 0.0, 'habilidad': 0.014595017821885449, 'demás,': 0.0, 'propias': 0.0, 'crítico': 0.0, 'colaboración': 0.0, 'las': 0.02617973519640443, 'combinarla': 0.0, 'desarrollo': 0.0, 'pero': 0.0, 'que': 0.02617973519640443, 'facilitando': 0.0, 'informática,': 0.0, 'la': 0.0127510600750977, 'Las': 0.0, 'emociones': 0.0, 'más': 0.0, 'resolución': 0.0, 'en': 0.0, 'necesidades': 0.04598394035526001, 'mejorando': 0.04598394035526001, 'y': 0.0, 'del': 0.0, 'fundamental': 0.0, 'entender': 0.04598394035526001, 'a': 0.02617973519640443, 'éxito': 0.0, 'calidad': 0.04598394035526001, 'Permite': 0.0, 'La': 0.02617973519640443, 'productos': 0.04598394035526001, 'productivo.': 0.0, 'usuarios,': 0.04598394035526001, 'así': 0.02617973519640443, 'comunicación': 0.0, 'inteligencia': 0.0, 'efectiva,': 0.0, 'facilitan': 0.0, 'son': 0.0, 'Estas': 0.0, 'problemas': 0.0, 'incluyen': 0.0, 'ya': 0.0, 'informáticos,': 0.0, 'tiempo.': 0.0, 'armonioso': 0.0, 'informática': 0.04598394035526001, 'dinámicos.': 0.0, 'informáticos.': 0.0, 'informática.': 0.0, 'ejemplo,': 0.04598394035526001, 'estas': 0.0, 'el': 0.0, 'En': 0.0, 'un': 0.0, 'innovadoras.': 0.0, 'gestión': 0.0, 'por': 0.04598394035526001}\n",
      "Documento 5:\n",
      "{'es': 0.006973235978569055, 'trabajo': 0.028634085371067347, 'empatía,': 0.0, 'desarrolladas.': 0.0, 'de': 0.0, 'equipo': 0.0, 'creatividad': 0.0, 'trabajar': 0.0, 'entornos': 0.0, 'competencias': 0.0, 'capacidad': 0.0, 'blandas': 0.0, 'vital': 0.050294934763565634, 'gestionar': 0.050294934763565634, 'técnicas': 0.0, 'interacción': 0.0, 'pensamiento': 0.0, 'esencial,': 0.0, 'los': 0.03192660148537442, 'profesionales': 0.0, 'El': 0.0, 'anticipar': 0.0, 'permite': 0.0, 'entorno': 0.050294934763565634, 'mejor': 0.050294934763565634, 'para': 0.01596330074268721, 'llevar': 0.0, 'soluciones': 0.0, 'puede': 0.0, 'técnica': 0.0, 'fundamentales': 0.0, 'una': 0.01596330074268721, 'campo': 0.0, 'habilidades': 0.0, 'con': 0.0, 'blanda': 0.028634085371067347, 'emocional': 0.050294934763565634, 'como': 0.0, 'habilidad': 0.01596330074268721, 'demás,': 0.050294934763565634, 'propias': 0.050294934763565634, 'crítico': 0.0, 'colaboración': 0.0, 'las': 0.057268170742134694, 'combinarla': 0.0, 'desarrollo': 0.0, 'pero': 0.0, 'que': 0.0, 'facilitando': 0.050294934763565634, 'informática,': 0.0, 'la': 0.0, 'Las': 0.0, 'emociones': 0.050294934763565634, 'más': 0.050294934763565634, 'resolución': 0.0, 'en': 0.0, 'necesidades': 0.0, 'mejorando': 0.0, 'y': 0.0, 'del': 0.0, 'fundamental': 0.0, 'entender': 0.0, 'a': 0.0, 'éxito': 0.0, 'calidad': 0.0, 'Permite': 0.050294934763565634, 'La': 0.028634085371067347, 'productos': 0.0, 'productivo.': 0.050294934763565634, 'usuarios,': 0.0, 'así': 0.028634085371067347, 'comunicación': 0.0, 'inteligencia': 0.050294934763565634, 'efectiva,': 0.0, 'facilitan': 0.0, 'son': 0.0, 'Estas': 0.0, 'problemas': 0.0, 'incluyen': 0.0, 'ya': 0.0, 'informáticos,': 0.0, 'tiempo.': 0.0, 'armonioso': 0.050294934763565634, 'informática': 0.0, 'dinámicos.': 0.0, 'informáticos.': 0.050294934763565634, 'informática.': 0.0, 'ejemplo,': 0.0, 'estas': 0.0, 'el': 0.0, 'En': 0.0, 'un': 0.050294934763565634, 'innovadoras.': 0.0, 'gestión': 0.0, 'por': 0.0}\n"
     ]
    }
   ],
   "source": [
    "import math\n",
    "from collections import Counter\n",
    "\n",
    "# Función para calcular TF\n",
    "def compute_tf(doc):\n",
    "    words = doc.split()\n",
    "    total_words = len(words)\n",
    "    tf = {}\n",
    "    for word in words:\n",
    "        if word in tf:\n",
    "            tf[word] += 1\n",
    "        else:\n",
    "            tf[word] = 1\n",
    "    for word in tf:\n",
    "        tf[word] = tf[word] / total_words\n",
    "    return tf\n",
    "\n",
    "# Función para calcular IDF\n",
    "def compute_idf(docs):\n",
    "    num_docs = len(docs)\n",
    "    idf = {}\n",
    "    for doc in docs:\n",
    "        words = set(doc.split())\n",
    "        for word in words:\n",
    "            if word in idf:\n",
    "                idf[word] += 1\n",
    "            else:\n",
    "                idf[word] = 1\n",
    "    for word in idf:\n",
    "        idf[word] = math.log(num_docs / idf[word])\n",
    "    return idf\n",
    "\n",
    "# Calcular TF para cada documento\n",
    "tf_docs = [compute_tf(doc) for doc in docs]\n",
    "\n",
    "# Calcular IDF para el corpus\n",
    "idf = compute_idf(docs)\n",
    "\n",
    "# Obtener todos los términos únicos del corpus\n",
    "all_terms = set()\n",
    "for doc in docs:\n",
    "    all_terms.update(doc.split())\n",
    "\n",
    "# Calcular TF-IDF para cada documento utilizando el mismo espacio vectorial\n",
    "tfidf_docs = []\n",
    "for tf_doc in tf_docs:\n",
    "    tfidf_doc = {term: 0.0 for term in all_terms}  # Inicializar con todos los términos\n",
    "    for word in tf_doc:\n",
    "        tfidf_doc[word] = tf_doc[word] * idf[word]\n",
    "    tfidf_docs.append(tfidf_doc)\n",
    "\n",
    "# Mostrar la matriz TF-IDF\n",
    "print(\"Matriz TF-IDF:\")\n",
    "for i, doc in enumerate(tfidf_docs):\n",
    "    print(f\"Documento {i+1}:\")\n",
    "    print(doc)\n"
   ]
  },
  {
   "cell_type": "markdown",
   "id": "4cf3c1efabaaa880",
   "metadata": {},
   "source": [
    "#### 5. Calcule el vector de la consulta utilizando las mismas fórmulas de TF-IDF."
   ]
  },
  {
   "cell_type": "code",
   "execution_count": 10,
   "id": "84a4e509395fb02a",
   "metadata": {},
   "outputs": [
    {
     "name": "stdout",
     "output_type": "stream",
     "text": [
      "\n",
      "Vector TF-IDF de la consulta:\n",
      "{'es': 0.0, 'trabajo': 0.0, 'empatía,': 0.0, 'desarrolladas.': 0.0, 'de': 0.0, 'equipo': 0.0, 'creatividad': 0.0, 'trabajar': 0.0, 'entornos': 0.0, 'competencias': 0.0, 'capacidad': 0.0, 'blandas': 0.1702752079219969, 'vital': 0.0, 'gestionar': 0.0, 'técnicas': 0.0, 'interacción': 0.0, 'pensamiento': 0.0, 'esencial,': 0.0, 'los': 0.0, 'profesionales': 0.0, 'El': 0.0, 'anticipar': 0.0, 'permite': 0.0, 'entorno': 0.0, 'mejor': 0.0, 'para': 0.0, 'llevar': 0.0, 'soluciones': 0.0, 'puede': 0.0, 'técnica': 0.0, 'fundamentales': 0.3054302439580517, 'una': 0.0, 'campo': 0.0, 'habilidades': 0.1702752079219969, 'con': 0.0, 'blanda': 0.0, 'emocional': 0.0, 'como': 0.0, 'habilidad': 0.0, 'demás,': 0.0, 'propias': 0.0, 'crítico': 0.0, 'colaboración': 0.0, 'las': 0.0, 'combinarla': 0.0, 'desarrollo': 0.0, 'pero': 0.0, 'que': 0.0, 'facilitando': 0.0, 'informática,': 0.0, 'la': 0.0, 'Las': 0.0, 'emociones': 0.0, 'más': 0.0, 'resolución': 0.0, 'en': 0.0, 'necesidades': 0.0, 'mejorando': 0.0, 'y': 0.0, 'del': 0.0, 'fundamental': 0.0, 'entender': 0.0, 'a': 0.0, 'éxito': 0.0, 'calidad': 0.0, 'Permite': 0.0, 'La': 0.0, 'productos': 0.0, 'productivo.': 0.0, 'usuarios,': 0.0, 'así': 0.0, 'comunicación': 0.0, 'inteligencia': 0.0, 'efectiva,': 0.0, 'facilitan': 0.0, 'son': 0.0, 'Estas': 0.0, 'problemas': 0.0, 'incluyen': 0.0, 'ya': 0.0, 'informáticos,': 0.0, 'tiempo.': 0.0, 'armonioso': 0.0, 'informática': 0.0, 'dinámicos.': 0.0, 'informáticos.': 0.0, 'informática.': 0.0, 'ejemplo,': 0.0, 'estas': 0.0, 'el': 0.0, 'En': 0.0, 'un': 0.0, 'innovadoras.': 0.0, 'gestión': 0.0, 'por': 0.0}\n"
     ]
    }
   ],
   "source": [
    "# Función para calcular el vector TF-IDF de una consulta\n",
    "def compute_query_tfidf(query, idf):\n",
    "    query_tf = compute_tf(query)\n",
    "    query_tfidf = {term: 0.0 for term in all_terms}\n",
    "    for word in query_tf:\n",
    "        if word in idf:\n",
    "            query_tfidf[word] = query_tf[word] * idf[word]\n",
    "        else:\n",
    "            query_tfidf[word] = 0.0\n",
    "    return query_tfidf\n",
    "\n",
    "consulta = \"habilidades blandas fundamentales\"\n",
    "consulta_tfidf = compute_query_tfidf(consulta, idf)\n",
    "\n",
    "# Mostrar el vector TF-IDF de la consulta\n",
    "print(\"\\nVector TF-IDF de la consulta:\")\n",
    "print(consulta_tfidf)\n"
   ]
  },
  {
   "cell_type": "markdown",
   "id": "21571a443a3a22ef",
   "metadata": {},
   "source": []
  },
  {
   "cell_type": "markdown",
   "id": "9919b6ff27b500f7",
   "metadata": {},
   "source": [
    "#### 6. Utilizando la similitud coseno, determine cuáles son los documentos por recuperarse para las siguientes consultas:\n",
    "6.1. “habilidades blandas fundamentales”\n",
    "\n",
    "6.2. “habilidades técnicas”\n",
    "\n",
    "6.3. “solución y gestión en informática”"
   ]
  },
  {
   "cell_type": "code",
   "execution_count": 11,
   "id": "ddfae35f1a8c519e",
   "metadata": {},
   "outputs": [
    {
     "name": "stdout",
     "output_type": "stream",
     "text": [
      "\n",
      "Similitudes coseno para la consulta: 'habilidades blandas fundamentales'\n",
      "Documento 1: 0.2946188476461592\n",
      "Documento 2: 0.07587883495725466\n",
      "Documento 3: 0.06506433278604955\n",
      "Documento 4: 0.10402008308429571\n",
      "Documento 5: 0.0\n",
      "\n",
      "Índices de los documentos ordenados por similitud para la consulta: 'habilidades blandas fundamentales'\n",
      "[0, 3, 1, 2, 4]\n",
      "\n",
      "Índice del documento más relevante para la consulta 'habilidades blandas fundamentales': 0\n",
      "\n",
      "Similitudes coseno para la consulta: 'habilidades técnicas'\n",
      "Documento 1: 0.04315540005797561\n",
      "Documento 2: 0.026216759996831627\n",
      "Documento 3: 0.022480260773202046\n",
      "Documento 4: 0.22176215007596686\n",
      "Documento 5: 0.0\n",
      "\n",
      "Índices de los documentos ordenados por similitud para la consulta: 'habilidades técnicas'\n",
      "[3, 0, 1, 2, 4]\n",
      "\n",
      "Índice del documento más relevante para la consulta 'habilidades técnicas': 3\n",
      "\n",
      "Similitudes coseno para la consulta: 'solución y gestión en informática'\n",
      "Documento 1: 0.24296603001498168\n",
      "Documento 2: 0.0580513426872379\n",
      "Documento 3: 0.0\n",
      "Documento 4: 0.15261577796809817\n",
      "Documento 5: 0.0\n",
      "\n",
      "Índices de los documentos ordenados por similitud para la consulta: 'solución y gestión en informática'\n",
      "[0, 3, 1, 2, 4]\n",
      "\n",
      "Índice del documento más relevante para la consulta 'solución y gestión en informática': 0\n"
     ]
    }
   ],
   "source": [
    "def cosine_similarity(vec1, vec2):\n",
    "    dot_product = sum([vec1[word] * vec2[word] for word in vec1 if word in vec2])\n",
    "    magnitude_vec1 = math.sqrt(sum([vec1[word] ** 2 for word in vec1]))\n",
    "    magnitude_vec2 = math.sqrt(sum([vec2[word] ** 2 for word in vec2]))\n",
    "    if magnitude_vec1 == 0 or magnitude_vec2 == 0:\n",
    "        return 0.0\n",
    "    return dot_product / (magnitude_vec1 * magnitude_vec2)\n",
    "\n",
    "# Consultas específicas\n",
    "queries = [\n",
    "    \"habilidades blandas fundamentales\",\n",
    "    \"habilidades técnicas\",\n",
    "    \"solución y gestión en informática\"\n",
    "]\n",
    "\n",
    "# Evaluar las consultas específicas\n",
    "for query in queries:\n",
    "    query_tfidf = compute_query_tfidf(query, idf)\n",
    "    cosine_similarities = [cosine_similarity(query_tfidf, doc_tfidf) for doc_tfidf in tfidf_docs]\n",
    "    sorted_indices = sorted(range(len(cosine_similarities)), key=lambda i: cosine_similarities[i], reverse=True)\n",
    "    \n",
    "    print(f\"\\nSimilitudes coseno para la consulta: '{query}'\")\n",
    "    for i, similarity in enumerate(cosine_similarities):\n",
    "        print(f\"Documento {i+1}: {similarity}\")\n",
    "    \n",
    "    print(f\"\\nÍndices de los documentos ordenados por similitud para la consulta: '{query}'\")\n",
    "    print(sorted_indices)\n",
    "    \n",
    "    most_relevant_doc_index = sorted_indices[0]\n",
    "    print(f\"\\nÍndice del documento más relevante para la consulta '{query}': {most_relevant_doc_index}\")\n"
   ]
  },
  {
   "cell_type": "markdown",
   "id": "a54de9eb09c5e966",
   "metadata": {},
   "source": [
    "#### 7. Ordene los documentos en función de su similitud con la consulta, de mayor a menor."
   ]
  },
  {
   "cell_type": "code",
   "execution_count": 12,
   "id": "cb9a2e56fde5c0c8",
   "metadata": {},
   "outputs": [
    {
     "name": "stdout",
     "output_type": "stream",
     "text": [
      "\n",
      "Documentos ordenados por similitud para la consulta: 'habilidades blandas fundamentales'\n",
      "Documento 1: Similitud = 0.2946188476461592\n",
      "Documento 4: Similitud = 0.10402008308429571\n",
      "Documento 2: Similitud = 0.07587883495725466\n",
      "Documento 3: Similitud = 0.06506433278604955\n",
      "Documento 5: Similitud = 0.0\n",
      "\n",
      "Documentos ordenados por similitud para la consulta: 'habilidades técnicas'\n",
      "Documento 4: Similitud = 0.22176215007596686\n",
      "Documento 1: Similitud = 0.04315540005797561\n",
      "Documento 2: Similitud = 0.026216759996831627\n",
      "Documento 3: Similitud = 0.022480260773202046\n",
      "Documento 5: Similitud = 0.0\n",
      "\n",
      "Documentos ordenados por similitud para la consulta: 'solución y gestión en informática'\n",
      "Documento 1: Similitud = 0.24296603001498168\n",
      "Documento 4: Similitud = 0.15261577796809817\n",
      "Documento 2: Similitud = 0.0580513426872379\n",
      "Documento 3: Similitud = 0.0\n",
      "Documento 5: Similitud = 0.0\n"
     ]
    }
   ],
   "source": [
    "for query in queries:\n",
    "    query_tfidf = compute_query_tfidf(query, idf)\n",
    "    cosine_similarities = [cosine_similarity(query_tfidf, doc_tfidf) for doc_tfidf in tfidf_docs]\n",
    "    sorted_indices = sorted(range(len(cosine_similarities)), key=lambda i: cosine_similarities[i], reverse=True)\n",
    "    \n",
    "    print(f\"\\nDocumentos ordenados por similitud para la consulta: '{query}'\")\n",
    "    for i in sorted_indices:\n",
    "        print(f\"Documento {i+1}: Similitud = {cosine_similarities[i]}\")\n"
   ]
  },
  {
   "cell_type": "markdown",
   "id": "8cd4938aed7cae14",
   "metadata": {},
   "source": [
    "#### 8. Determine cuál es el documento más relevante para la consulta dada."
   ]
  },
  {
   "cell_type": "code",
   "execution_count": 13,
   "id": "40aa0ac1",
   "metadata": {},
   "outputs": [
    {
     "name": "stdout",
     "output_type": "stream",
     "text": [
      "\n",
      "El documento más relevante para la consulta 'habilidades blandas fundamentales': Documento 1\n",
      "\n",
      "El documento más relevante para la consulta 'habilidades técnicas': Documento 4\n",
      "\n",
      "El documento más relevante para la consulta 'solución y gestión en informática': Documento 1\n"
     ]
    }
   ],
   "source": [
    "# Este paso también se realizó en el paso 6, pero aquí lo mostramos claramente para cada consulta\n",
    "\n",
    "for query in queries:\n",
    "    query_tfidf = compute_query_tfidf(query, idf)\n",
    "    cosine_similarities = [cosine_similarity(query_tfidf, doc_tfidf) for doc_tfidf in tfidf_docs]\n",
    "    sorted_indices = sorted(range(len(cosine_similarities)), key=lambda i: cosine_similarities[i], reverse=True)\n",
    "    \n",
    "    most_relevant_doc_index = sorted_indices[0]\n",
    "    print(f\"\\nEl documento más relevante para la consulta '{query}': Documento {most_relevant_doc_index + 1}\")\n"
   ]
  },
  {
   "cell_type": "code",
   "execution_count": null,
   "id": "e2ef0ae2",
   "metadata": {},
   "outputs": [],
   "source": []
  }
 ],
 "metadata": {
  "kernelspec": {
   "display_name": "Python 3",
   "language": "python",
   "name": "python3"
  },
  "language_info": {
   "codemirror_mode": {
    "name": "ipython",
    "version": 3
   },
   "file_extension": ".py",
   "mimetype": "text/x-python",
   "name": "python",
   "nbconvert_exporter": "python",
   "pygments_lexer": "ipython3",
   "version": "3.9.11"
  }
 },
 "nbformat": 4,
 "nbformat_minor": 5
}
