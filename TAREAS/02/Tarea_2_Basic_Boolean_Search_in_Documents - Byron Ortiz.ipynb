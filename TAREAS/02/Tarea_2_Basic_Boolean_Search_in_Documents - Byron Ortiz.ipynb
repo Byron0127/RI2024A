{
 "cells": [
  {
   "cell_type": "markdown",
   "id": "83d5d752",
   "metadata": {},
   "source": [
    "# Basic Boolean Search in Documents - Byron Ortiz\n"
   ]
  },
  {
   "cell_type": "markdown",
   "id": "1c07baca",
   "metadata": {},
   "source": [
    "## Preparación e Importación de Librerías\n",
    "\n",
    "En esta sección, importamos las librerías necesarias para manejar archivos, trabajar con expresiones regulares y crear colecciones de datos.\n"
   ]
  },
  {
   "cell_type": "code",
   "execution_count": 1,
   "id": "01a5cd40",
   "metadata": {},
   "outputs": [],
   "source": [
    "# Importar librerías necesarias\n",
    "import os               # Para interactuar con el sistema operativo y manejar rutas y archivos\n",
    "import re               # Para utilizar expresiones regulares en la manipulación de texto\n",
    "from collections import defaultdict  # Para usar diccionarios que asignan valores por defecto a claves no existentes\n"
   ]
  },
  {
   "cell_type": "markdown",
   "id": "24d65c84",
   "metadata": {},
   "source": [
    "## Definición de Funciones\n",
    "\n",
    "Definimos funciones clave para leer el contenido de los libros y crear un índice invertido que nos permitirá realizar búsquedas eficientes.\n"
   ]
  },
  {
   "cell_type": "code",
   "execution_count": 2,
   "id": "07da1f50",
   "metadata": {},
   "outputs": [],
   "source": [
    "# Función para leer el contenido de un archivo de texto\n",
    "def read_book(file_path):\n",
    "    with open(file_path, 'r', encoding='utf-8') as file:  # Abrir el archivo en modo de lectura con codificación UTF-8\n",
    "        return file.read()  # Leer y retornar todo el contenido del archivo\n",
    "\n",
    "# Función para crear un índice invertido a partir de los contenidos de los libros\n",
    "def create_inverted_index_from_contents(file_paths):\n",
    "    inverted_index = defaultdict(set)  # Crear un diccionario donde cada palabra mapea a un conjunto de índices de libros\n",
    "    book_titles = []  # Lista para almacenar los títulos de los libros\n",
    "    for file_path in file_paths:  # Iterar sobre cada archivo de texto\n",
    "        content = read_book(file_path)  # Leer el contenido del archivo\n",
    "        words = set(re.findall(r'\\w+', content.lower()))  # Extraer palabras y convertirlas a minúsculas\n",
    "        book_title = os.path.basename(file_path)  # Extraer el nombre del archivo como título del libro\n",
    "        book_titles.append(book_title)  # Añadir el título a la lista de títulos\n",
    "        for word in words:  # Para cada palabra única\n",
    "            inverted_index[word].add(len(book_titles) - 1)  # Añadir el índice del libro al conjunto de índices de esa palabra\n",
    "    return inverted_index, book_titles  # Retornar el índice invertido y los títulos\n"
   ]
  },
  {
   "cell_type": "markdown",
   "id": "a79f8b9e",
   "metadata": {},
   "source": [
    "## Cargar Libros y Crear el Índice Invertido\n",
    "\n",
    "Cargamos los archivos de texto desde la carpeta especificada y utilizamos las funciones definidas para crear el índice invertido.\n"
   ]
  },
  {
   "cell_type": "code",
   "execution_count": 3,
   "id": "7d9786e2",
   "metadata": {},
   "outputs": [],
   "source": [
    "# Definir la ruta a la carpeta que contiene los archivos\n",
    "data_folder_path = './data/'  # Ajusta esta ruta según la ubicación real de tus archivos\n",
    "\n",
    "# Listar todos los archivos de texto en la carpeta de datos y construir sus rutas completas\n",
    "txt_files = [os.path.join(data_folder_path, file) for file in os.listdir(data_folder_path) if file.endswith('.txt')]\n",
    "\n",
    "# Crear el índice invertido y extraer los títulos de los libros utilizando las funciones definidas\n",
    "inverted_index, book_titles = create_inverted_index_from_contents(txt_files)\n"
   ]
  },
  {
   "cell_type": "markdown",
   "id": "dfdc4a32",
   "metadata": {},
   "source": [
    "## Función de Búsqueda y Visualización de Resultados\n",
    "\n",
    "Definimos una función que permite realizar búsquedas en el índice invertido y visualizar los libros que contienen la palabra buscada.\n"
   ]
  },
  {
   "cell_type": "code",
   "execution_count": 5,
   "id": "1059ddb5",
   "metadata": {},
   "outputs": [
    {
     "name": "stdout",
     "output_type": "stream",
     "text": [
      "Introduce la palabra a buscar: Hola\n",
      "Libros que contienen la palabra 'hola':\n",
      "pg4300.txt\n",
      "pg2000.txt\n"
     ]
    }
   ],
   "source": [
    "# Función para buscar en el índice invertido y mostrar los libros que contienen una palabra específica\n",
    "def search_and_display(word, inverted_index, book_titles):\n",
    "    word = word.lower()  # Convertir la palabra buscada a minúsculas para asegurar una comparación insensible a mayúsculas\n",
    "    if word in inverted_index:  # Verificar si la palabra está en el índice\n",
    "        book_ids = inverted_index[word]  # Obtener los índices de los libros que contienen la palabra\n",
    "        results = [book_titles[book_id] for book_id in book_ids]  # Obtener los títulos de esos libros\n",
    "        if results:  # Si hay resultados\n",
    "            print(f\"Libros que contienen la palabra '{word}':\")\n",
    "            for title in results:  # Imprimir cada título\n",
    "                print(title)\n",
    "        else:  # Si no hay resultados\n",
    "            print(f\"No hay libros que contengan la palabra '{word}'.\")\n",
    "    else:  # Si la palabra no está en el índice\n",
    "        print(f\"No se encontró la palabra '{word}' en ningún título de libro.\")\n",
    "\n",
    "# Solicitar entrada del usuario para la búsqueda\n",
    "search_term = input(\"Introduce la palabra a buscar: \")  # Pedir al usuario que introduzca una palabra\n",
    "search_and_display(search_term, inverted_index, book_titles)  # Realizar la búsqueda y mostrar los resultados\n"
   ]
  },
  {
   "cell_type": "code",
   "execution_count": null,
   "id": "d032e1b3",
   "metadata": {},
   "outputs": [],
   "source": []
  },
  {
   "cell_type": "code",
   "execution_count": null,
   "id": "e43e9736",
   "metadata": {},
   "outputs": [],
   "source": []
  },
  {
   "cell_type": "code",
   "execution_count": null,
   "id": "82f82468",
   "metadata": {},
   "outputs": [],
   "source": []
  },
  {
   "cell_type": "code",
   "execution_count": null,
   "id": "e1ec045c",
   "metadata": {},
   "outputs": [],
   "source": []
  },
  {
   "cell_type": "code",
   "execution_count": null,
   "id": "58bd086a",
   "metadata": {},
   "outputs": [],
   "source": []
  },
  {
   "cell_type": "code",
   "execution_count": null,
   "id": "a1a90811",
   "metadata": {},
   "outputs": [],
   "source": []
  }
 ],
 "metadata": {
  "kernelspec": {
   "display_name": "Python 3 (ipykernel)",
   "language": "python",
   "name": "python3"
  },
  "language_info": {
   "codemirror_mode": {
    "name": "ipython",
    "version": 3
   },
   "file_extension": ".py",
   "mimetype": "text/x-python",
   "name": "python",
   "nbconvert_exporter": "python",
   "pygments_lexer": "ipython3",
   "version": "3.7.16"
  }
 },
 "nbformat": 4,
 "nbformat_minor": 5
}
